{
  "nbformat": 4,
  "nbformat_minor": 0,
  "metadata": {
    "colab": {
      "name": "Competetive Coding I.ipynb",
      "provenance": []
    },
    "kernelspec": {
      "name": "python3",
      "display_name": "Python 3"
    }
  },
  "cells": [
    {
      "cell_type": "code",
      "source": [
        "!pip install geopandas\n",
        "!pip install fiona\n",
        "!pip install pandas\n",
        "!pip install pyproj\n",
        "!pip install os\n",
        "!pip install shapely\n",
        "!pip install unary_union"
      ],
      "metadata": {
        "colab": {
          "base_uri": "https://localhost:8080/"
        },
        "id": "LOlyr0fwwrg8",
        "outputId": "a219417a-5ddc-46f0-c252-163cbfa03633"
      },
      "execution_count": 2,
      "outputs": [
        {
          "output_type": "stream",
          "name": "stdout",
          "text": [
            "Requirement already satisfied: geopandas in /usr/local/lib/python3.11/dist-packages (1.0.1)\n",
            "Requirement already satisfied: numpy>=1.22 in /usr/local/lib/python3.11/dist-packages (from geopandas) (2.0.2)\n",
            "Requirement already satisfied: pyogrio>=0.7.2 in /usr/local/lib/python3.11/dist-packages (from geopandas) (0.10.0)\n",
            "Requirement already satisfied: packaging in /usr/local/lib/python3.11/dist-packages (from geopandas) (24.2)\n",
            "Requirement already satisfied: pandas>=1.4.0 in /usr/local/lib/python3.11/dist-packages (from geopandas) (2.2.2)\n",
            "Requirement already satisfied: pyproj>=3.3.0 in /usr/local/lib/python3.11/dist-packages (from geopandas) (3.7.1)\n",
            "Requirement already satisfied: shapely>=2.0.0 in /usr/local/lib/python3.11/dist-packages (from geopandas) (2.1.0)\n",
            "Requirement already satisfied: python-dateutil>=2.8.2 in /usr/local/lib/python3.11/dist-packages (from pandas>=1.4.0->geopandas) (2.9.0.post0)\n",
            "Requirement already satisfied: pytz>=2020.1 in /usr/local/lib/python3.11/dist-packages (from pandas>=1.4.0->geopandas) (2025.2)\n",
            "Requirement already satisfied: tzdata>=2022.7 in /usr/local/lib/python3.11/dist-packages (from pandas>=1.4.0->geopandas) (2025.2)\n",
            "Requirement already satisfied: certifi in /usr/local/lib/python3.11/dist-packages (from pyogrio>=0.7.2->geopandas) (2025.1.31)\n",
            "Requirement already satisfied: six>=1.5 in /usr/local/lib/python3.11/dist-packages (from python-dateutil>=2.8.2->pandas>=1.4.0->geopandas) (1.17.0)\n",
            "Collecting fiona\n",
            "  Downloading fiona-1.10.1-cp311-cp311-manylinux_2_17_x86_64.manylinux2014_x86_64.whl.metadata (56 kB)\n",
            "\u001b[2K     \u001b[90m━━━━━━━━━━━━━━━━━━━━━━━━━━━━━━━━━━━━━━━━\u001b[0m \u001b[32m56.6/56.6 kB\u001b[0m \u001b[31m1.5 MB/s\u001b[0m eta \u001b[36m0:00:00\u001b[0m\n",
            "\u001b[?25hRequirement already satisfied: attrs>=19.2.0 in /usr/local/lib/python3.11/dist-packages (from fiona) (25.3.0)\n",
            "Requirement already satisfied: certifi in /usr/local/lib/python3.11/dist-packages (from fiona) (2025.1.31)\n",
            "Requirement already satisfied: click~=8.0 in /usr/local/lib/python3.11/dist-packages (from fiona) (8.1.8)\n",
            "Collecting click-plugins>=1.0 (from fiona)\n",
            "  Downloading click_plugins-1.1.1-py2.py3-none-any.whl.metadata (6.4 kB)\n",
            "Collecting cligj>=0.5 (from fiona)\n",
            "  Downloading cligj-0.7.2-py3-none-any.whl.metadata (5.0 kB)\n",
            "Downloading fiona-1.10.1-cp311-cp311-manylinux_2_17_x86_64.manylinux2014_x86_64.whl (17.3 MB)\n",
            "\u001b[2K   \u001b[90m━━━━━━━━━━━━━━━━━━━━━━━━━━━━━━━━━━━━━━━━\u001b[0m \u001b[32m17.3/17.3 MB\u001b[0m \u001b[31m97.5 MB/s\u001b[0m eta \u001b[36m0:00:00\u001b[0m\n",
            "\u001b[?25hDownloading click_plugins-1.1.1-py2.py3-none-any.whl (7.5 kB)\n",
            "Downloading cligj-0.7.2-py3-none-any.whl (7.1 kB)\n",
            "Installing collected packages: cligj, click-plugins, fiona\n",
            "Successfully installed click-plugins-1.1.1 cligj-0.7.2 fiona-1.10.1\n",
            "Requirement already satisfied: pandas in /usr/local/lib/python3.11/dist-packages (2.2.2)\n",
            "Requirement already satisfied: numpy>=1.23.2 in /usr/local/lib/python3.11/dist-packages (from pandas) (2.0.2)\n",
            "Requirement already satisfied: python-dateutil>=2.8.2 in /usr/local/lib/python3.11/dist-packages (from pandas) (2.9.0.post0)\n",
            "Requirement already satisfied: pytz>=2020.1 in /usr/local/lib/python3.11/dist-packages (from pandas) (2025.2)\n",
            "Requirement already satisfied: tzdata>=2022.7 in /usr/local/lib/python3.11/dist-packages (from pandas) (2025.2)\n",
            "Requirement already satisfied: six>=1.5 in /usr/local/lib/python3.11/dist-packages (from python-dateutil>=2.8.2->pandas) (1.17.0)\n",
            "Requirement already satisfied: pyproj in /usr/local/lib/python3.11/dist-packages (3.7.1)\n",
            "Requirement already satisfied: certifi in /usr/local/lib/python3.11/dist-packages (from pyproj) (2025.1.31)\n",
            "\u001b[31mERROR: Could not find a version that satisfies the requirement os (from versions: none)\u001b[0m\u001b[31m\n",
            "\u001b[0m\u001b[31mERROR: No matching distribution found for os\u001b[0m\u001b[31m\n",
            "\u001b[0mRequirement already satisfied: shapely in /usr/local/lib/python3.11/dist-packages (2.1.0)\n",
            "Requirement already satisfied: numpy>=1.21 in /usr/local/lib/python3.11/dist-packages (from shapely) (2.0.2)\n",
            "\u001b[31mERROR: Could not find a version that satisfies the requirement unary_union (from versions: none)\u001b[0m\u001b[31m\n",
            "\u001b[0m\u001b[31mERROR: No matching distribution found for unary_union\u001b[0m\u001b[31m\n",
            "\u001b[0m"
          ]
        }
      ]
    },
    {
      "cell_type": "code",
      "source": [
        "import geopandas as gpd\n",
        "import fiona\n",
        "import pandas as pd\n",
        "import pyproj\n",
        "import os\n",
        "from shapely.geometry import shape\n",
        "from shapely.ops import split, unary_union"
      ],
      "metadata": {
        "id": "dKZbQGmhwihQ"
      },
      "execution_count": 3,
      "outputs": []
    },
    {
      "cell_type": "code",
      "source": [
        "import time\n",
        "\n",
        "def time_it(func):\n",
        "    \"\"\"\n",
        "    A decorator function to measure the execution time of a given function.\n",
        "\n",
        "    Args:\n",
        "        func: The function whose execution time needs to be measured.\n",
        "\n",
        "    Returns:\n",
        "        A wrapped version of the input function that prints the execution time.\n",
        "    \"\"\"\n",
        "    def wrapper(*args, **kwargs):\n",
        "        # Record the start time\n",
        "        start_time = time.time()\n",
        "\n",
        "        # Call the original function with its arguments\n",
        "        result = func(*args, **kwargs)\n",
        "\n",
        "        # Record the end time\n",
        "        end_time = time.time()\n",
        "\n",
        "        # Calculate and print the elapsed time\n",
        "        elapsed_time = end_time - start_time\n",
        "        print(f\"Function '{func.__name__}' took {elapsed_time:.6f} seconds to execute.\")\n",
        "\n",
        "        # Return the result of the original function\n",
        "        return result\n",
        "\n",
        "    return wrapper\n"
      ],
      "metadata": {
        "id": "sRq192Nvwmg6"
      },
      "execution_count": 4,
      "outputs": []
    },
    {
      "cell_type": "code",
      "source": [
        "pd.set_option('display.max_columns', None)\n"
      ],
      "metadata": {
        "id": "4ajlY-Rjwylf"
      },
      "execution_count": 5,
      "outputs": []
    },
    {
      "source": [
        "muni_df = gpd.read_file(\"MunicipalitiesRegion.tab\", driver='MapInfo File') # Explicitly specify the MapInfo File driver"
      ],
      "cell_type": "code",
      "metadata": {
        "id": "HcpWYTHIxJs8"
      },
      "execution_count": 6,
      "outputs": []
    },
    {
      "cell_type": "code",
      "source": [
        "muni_df = muni_df[muni_df['PROV']==\"AB\"].sort_values('NAME')"
      ],
      "metadata": {
        "id": "gjO7fr6ow5z-"
      },
      "execution_count": 7,
      "outputs": []
    },
    {
      "cell_type": "code",
      "source": [
        "model_area_lut = muni_df[['UNIQUE_ID','NAME','PROV','geometry']]\n",
        "model_area_lut.shape"
      ],
      "metadata": {
        "colab": {
          "base_uri": "https://localhost:8080/"
        },
        "id": "GkpVQSvgyGvU",
        "outputId": "bda1b9b8-4a4a-43e2-fc7c-856fd4d0ff2e"
      },
      "execution_count": 8,
      "outputs": [
        {
          "output_type": "execute_result",
          "data": {
            "text/plain": [
              "(425, 4)"
            ]
          },
          "metadata": {},
          "execution_count": 8
        }
      ]
    },
    {
      "cell_type": "code",
      "source": [
        "model_areas = gpd.read_file(\"ModelAreas_AB.TAB\", driver='MapInfo File')"
      ],
      "metadata": {
        "id": "-ARtYMyxyIzk"
      },
      "execution_count": 10,
      "outputs": []
    },
    {
      "cell_type": "code",
      "source": [
        "model_area_lut['Obj_Npolygons'] = model_area_lut.geometry.apply(lambda g: 1 if g.geom_type == \"Polygon\" else len(g.geoms))\n",
        "\n"
      ],
      "metadata": {
        "colab": {
          "base_uri": "https://localhost:8080/"
        },
        "id": "3LiA-3JgyMXj",
        "outputId": "68bc946d-7454-4227-a58b-f1bb620bab58"
      },
      "execution_count": 11,
      "outputs": [
        {
          "output_type": "stream",
          "name": "stderr",
          "text": [
            "/usr/local/lib/python3.11/dist-packages/geopandas/geodataframe.py:1819: SettingWithCopyWarning: \n",
            "A value is trying to be set on a copy of a slice from a DataFrame.\n",
            "Try using .loc[row_indexer,col_indexer] = value instead\n",
            "\n",
            "See the caveats in the documentation: https://pandas.pydata.org/pandas-docs/stable/user_guide/indexing.html#returning-a-view-versus-a-copy\n",
            "  super().__setitem__(key, value)\n"
          ]
        }
      ]
    },
    {
      "cell_type": "code",
      "source": [
        "df = model_area_lut[model_area_lut['Obj_Npolygons']>1]"
      ],
      "metadata": {
        "id": "Zx1_JkVIyZX8"
      },
      "execution_count": 12,
      "outputs": []
    },
    {
      "cell_type": "code",
      "source": [
        "df.shape"
      ],
      "metadata": {
        "colab": {
          "base_uri": "https://localhost:8080/"
        },
        "id": "97C6HEKMycrT",
        "outputId": "dd1908bf-5ac5-48a4-b683-6f8a760a4a89"
      },
      "execution_count": 13,
      "outputs": [
        {
          "output_type": "execute_result",
          "data": {
            "text/plain": [
              "(16, 5)"
            ]
          },
          "metadata": {},
          "execution_count": 13
        }
      ]
    },
    {
      "cell_type": "code",
      "source": [
        "multi_polys = model_area_lut[model_area_lut['Obj_Npolygons']>1]\n",
        "multi_polys"
      ],
      "metadata": {
        "colab": {
          "base_uri": "https://localhost:8080/",
          "height": 551
        },
        "id": "6REHDY_3yd1r",
        "outputId": "20960095-defd-4315-8889-cd4633ab6567"
      },
      "execution_count": 14,
      "outputs": [
        {
          "output_type": "execute_result",
          "data": {
            "text/plain": [
              "        UNIQUE_ID                  NAME PROV  \\\n",
              "4155  480004283.0      Big Lakes County   AB   \n",
              "4132  480004244.0         Bighorn No. 8   AB   \n",
              "4065  480004172.0     Bonnyville No. 87   AB   \n",
              "3845  480003944.0       Cardston County   AB   \n",
              "3939  480004040.0              Daysland   AB   \n",
              "3916  480004016.0       Eden Valley 216   AB   \n",
              "4237  480006955.0         Loon Lake 235   AB   \n",
              "3980  480004083.0          O'Chiese 203   AB   \n",
              "3859  480003959.0           Piikani 147   AB   \n",
              "3851  480003950.0   Pincher Creek No. 9   AB   \n",
              "3973  480004076.0            Samson 137   AB   \n",
              "4178  480004307.0         Sawridge 150G   AB   \n",
              "3896  480003996.0           Siksika 146   AB   \n",
              "4141  480004253.0  Stoney 142, 143, 144   AB   \n",
              "4177  480004306.0       Swan River 150E   AB   \n",
              "4063  480004170.0          Wabamun 133A   AB   \n",
              "\n",
              "                                               geometry  Obj_Npolygons  \n",
              "4155  MULTIPOLYGON (((-115.42926 55.33446, -115.4293...              3  \n",
              "4132  MULTIPOLYGON (((-115.0409 51.08535, -115.04148...              3  \n",
              "4065  MULTIPOLYGON (((-110.23005 54.33312, -110.2390...              2  \n",
              "3845  MULTIPOLYGON (((-112.82355 49.5651, -112.82347...              3  \n",
              "3939  MULTIPOLYGON (((-112.26333 52.87505, -112.2657...              2  \n",
              "3916  MULTIPOLYGON (((-114.437 50.4263, -114.41432 5...              2  \n",
              "4237  MULTIPOLYGON (((-115.43143 56.46439, -115.4208...              2  \n",
              "3980  MULTIPOLYGON (((-115.28136 52.71262, -115.2808...              2  \n",
              "3859  MULTIPOLYGON (((-113.79562 49.55309, -113.8069...              2  \n",
              "3851  MULTIPOLYGON (((-113.71651 49.65489, -113.7165...              2  \n",
              "3973  MULTIPOLYGON (((-113.49926 52.84337, -113.5111...              2  \n",
              "4178  MULTIPOLYGON (((-114.75456 55.28681, -114.7460...              4  \n",
              "3896  MULTIPOLYGON (((-112.54435 50.66298, -112.5443...              5  \n",
              "4141  MULTIPOLYGON (((-114.78587 51.19772, -114.8043...              2  \n",
              "4177  MULTIPOLYGON (((-115.52843 55.35326, -115.5162...              4  \n",
              "4063  MULTIPOLYGON (((-114.309 53.49735, -114.30917 ...              3  "
            ],
            "text/html": [
              "\n",
              "  <div id=\"df-f7fbb98f-0d1f-4272-8043-b5526eb440ab\" class=\"colab-df-container\">\n",
              "    <div>\n",
              "<style scoped>\n",
              "    .dataframe tbody tr th:only-of-type {\n",
              "        vertical-align: middle;\n",
              "    }\n",
              "\n",
              "    .dataframe tbody tr th {\n",
              "        vertical-align: top;\n",
              "    }\n",
              "\n",
              "    .dataframe thead th {\n",
              "        text-align: right;\n",
              "    }\n",
              "</style>\n",
              "<table border=\"1\" class=\"dataframe\">\n",
              "  <thead>\n",
              "    <tr style=\"text-align: right;\">\n",
              "      <th></th>\n",
              "      <th>UNIQUE_ID</th>\n",
              "      <th>NAME</th>\n",
              "      <th>PROV</th>\n",
              "      <th>geometry</th>\n",
              "      <th>Obj_Npolygons</th>\n",
              "    </tr>\n",
              "  </thead>\n",
              "  <tbody>\n",
              "    <tr>\n",
              "      <th>4155</th>\n",
              "      <td>480004283.0</td>\n",
              "      <td>Big Lakes County</td>\n",
              "      <td>AB</td>\n",
              "      <td>MULTIPOLYGON (((-115.42926 55.33446, -115.4293...</td>\n",
              "      <td>3</td>\n",
              "    </tr>\n",
              "    <tr>\n",
              "      <th>4132</th>\n",
              "      <td>480004244.0</td>\n",
              "      <td>Bighorn No. 8</td>\n",
              "      <td>AB</td>\n",
              "      <td>MULTIPOLYGON (((-115.0409 51.08535, -115.04148...</td>\n",
              "      <td>3</td>\n",
              "    </tr>\n",
              "    <tr>\n",
              "      <th>4065</th>\n",
              "      <td>480004172.0</td>\n",
              "      <td>Bonnyville No. 87</td>\n",
              "      <td>AB</td>\n",
              "      <td>MULTIPOLYGON (((-110.23005 54.33312, -110.2390...</td>\n",
              "      <td>2</td>\n",
              "    </tr>\n",
              "    <tr>\n",
              "      <th>3845</th>\n",
              "      <td>480003944.0</td>\n",
              "      <td>Cardston County</td>\n",
              "      <td>AB</td>\n",
              "      <td>MULTIPOLYGON (((-112.82355 49.5651, -112.82347...</td>\n",
              "      <td>3</td>\n",
              "    </tr>\n",
              "    <tr>\n",
              "      <th>3939</th>\n",
              "      <td>480004040.0</td>\n",
              "      <td>Daysland</td>\n",
              "      <td>AB</td>\n",
              "      <td>MULTIPOLYGON (((-112.26333 52.87505, -112.2657...</td>\n",
              "      <td>2</td>\n",
              "    </tr>\n",
              "    <tr>\n",
              "      <th>3916</th>\n",
              "      <td>480004016.0</td>\n",
              "      <td>Eden Valley 216</td>\n",
              "      <td>AB</td>\n",
              "      <td>MULTIPOLYGON (((-114.437 50.4263, -114.41432 5...</td>\n",
              "      <td>2</td>\n",
              "    </tr>\n",
              "    <tr>\n",
              "      <th>4237</th>\n",
              "      <td>480006955.0</td>\n",
              "      <td>Loon Lake 235</td>\n",
              "      <td>AB</td>\n",
              "      <td>MULTIPOLYGON (((-115.43143 56.46439, -115.4208...</td>\n",
              "      <td>2</td>\n",
              "    </tr>\n",
              "    <tr>\n",
              "      <th>3980</th>\n",
              "      <td>480004083.0</td>\n",
              "      <td>O'Chiese 203</td>\n",
              "      <td>AB</td>\n",
              "      <td>MULTIPOLYGON (((-115.28136 52.71262, -115.2808...</td>\n",
              "      <td>2</td>\n",
              "    </tr>\n",
              "    <tr>\n",
              "      <th>3859</th>\n",
              "      <td>480003959.0</td>\n",
              "      <td>Piikani 147</td>\n",
              "      <td>AB</td>\n",
              "      <td>MULTIPOLYGON (((-113.79562 49.55309, -113.8069...</td>\n",
              "      <td>2</td>\n",
              "    </tr>\n",
              "    <tr>\n",
              "      <th>3851</th>\n",
              "      <td>480003950.0</td>\n",
              "      <td>Pincher Creek No. 9</td>\n",
              "      <td>AB</td>\n",
              "      <td>MULTIPOLYGON (((-113.71651 49.65489, -113.7165...</td>\n",
              "      <td>2</td>\n",
              "    </tr>\n",
              "    <tr>\n",
              "      <th>3973</th>\n",
              "      <td>480004076.0</td>\n",
              "      <td>Samson 137</td>\n",
              "      <td>AB</td>\n",
              "      <td>MULTIPOLYGON (((-113.49926 52.84337, -113.5111...</td>\n",
              "      <td>2</td>\n",
              "    </tr>\n",
              "    <tr>\n",
              "      <th>4178</th>\n",
              "      <td>480004307.0</td>\n",
              "      <td>Sawridge 150G</td>\n",
              "      <td>AB</td>\n",
              "      <td>MULTIPOLYGON (((-114.75456 55.28681, -114.7460...</td>\n",
              "      <td>4</td>\n",
              "    </tr>\n",
              "    <tr>\n",
              "      <th>3896</th>\n",
              "      <td>480003996.0</td>\n",
              "      <td>Siksika 146</td>\n",
              "      <td>AB</td>\n",
              "      <td>MULTIPOLYGON (((-112.54435 50.66298, -112.5443...</td>\n",
              "      <td>5</td>\n",
              "    </tr>\n",
              "    <tr>\n",
              "      <th>4141</th>\n",
              "      <td>480004253.0</td>\n",
              "      <td>Stoney 142, 143, 144</td>\n",
              "      <td>AB</td>\n",
              "      <td>MULTIPOLYGON (((-114.78587 51.19772, -114.8043...</td>\n",
              "      <td>2</td>\n",
              "    </tr>\n",
              "    <tr>\n",
              "      <th>4177</th>\n",
              "      <td>480004306.0</td>\n",
              "      <td>Swan River 150E</td>\n",
              "      <td>AB</td>\n",
              "      <td>MULTIPOLYGON (((-115.52843 55.35326, -115.5162...</td>\n",
              "      <td>4</td>\n",
              "    </tr>\n",
              "    <tr>\n",
              "      <th>4063</th>\n",
              "      <td>480004170.0</td>\n",
              "      <td>Wabamun 133A</td>\n",
              "      <td>AB</td>\n",
              "      <td>MULTIPOLYGON (((-114.309 53.49735, -114.30917 ...</td>\n",
              "      <td>3</td>\n",
              "    </tr>\n",
              "  </tbody>\n",
              "</table>\n",
              "</div>\n",
              "    <div class=\"colab-df-buttons\">\n",
              "\n",
              "  <div class=\"colab-df-container\">\n",
              "    <button class=\"colab-df-convert\" onclick=\"convertToInteractive('df-f7fbb98f-0d1f-4272-8043-b5526eb440ab')\"\n",
              "            title=\"Convert this dataframe to an interactive table.\"\n",
              "            style=\"display:none;\">\n",
              "\n",
              "  <svg xmlns=\"http://www.w3.org/2000/svg\" height=\"24px\" viewBox=\"0 -960 960 960\">\n",
              "    <path d=\"M120-120v-720h720v720H120Zm60-500h600v-160H180v160Zm220 220h160v-160H400v160Zm0 220h160v-160H400v160ZM180-400h160v-160H180v160Zm440 0h160v-160H620v160ZM180-180h160v-160H180v160Zm440 0h160v-160H620v160Z\"/>\n",
              "  </svg>\n",
              "    </button>\n",
              "\n",
              "  <style>\n",
              "    .colab-df-container {\n",
              "      display:flex;\n",
              "      gap: 12px;\n",
              "    }\n",
              "\n",
              "    .colab-df-convert {\n",
              "      background-color: #E8F0FE;\n",
              "      border: none;\n",
              "      border-radius: 50%;\n",
              "      cursor: pointer;\n",
              "      display: none;\n",
              "      fill: #1967D2;\n",
              "      height: 32px;\n",
              "      padding: 0 0 0 0;\n",
              "      width: 32px;\n",
              "    }\n",
              "\n",
              "    .colab-df-convert:hover {\n",
              "      background-color: #E2EBFA;\n",
              "      box-shadow: 0px 1px 2px rgba(60, 64, 67, 0.3), 0px 1px 3px 1px rgba(60, 64, 67, 0.15);\n",
              "      fill: #174EA6;\n",
              "    }\n",
              "\n",
              "    .colab-df-buttons div {\n",
              "      margin-bottom: 4px;\n",
              "    }\n",
              "\n",
              "    [theme=dark] .colab-df-convert {\n",
              "      background-color: #3B4455;\n",
              "      fill: #D2E3FC;\n",
              "    }\n",
              "\n",
              "    [theme=dark] .colab-df-convert:hover {\n",
              "      background-color: #434B5C;\n",
              "      box-shadow: 0px 1px 3px 1px rgba(0, 0, 0, 0.15);\n",
              "      filter: drop-shadow(0px 1px 2px rgba(0, 0, 0, 0.3));\n",
              "      fill: #FFFFFF;\n",
              "    }\n",
              "  </style>\n",
              "\n",
              "    <script>\n",
              "      const buttonEl =\n",
              "        document.querySelector('#df-f7fbb98f-0d1f-4272-8043-b5526eb440ab button.colab-df-convert');\n",
              "      buttonEl.style.display =\n",
              "        google.colab.kernel.accessAllowed ? 'block' : 'none';\n",
              "\n",
              "      async function convertToInteractive(key) {\n",
              "        const element = document.querySelector('#df-f7fbb98f-0d1f-4272-8043-b5526eb440ab');\n",
              "        const dataTable =\n",
              "          await google.colab.kernel.invokeFunction('convertToInteractive',\n",
              "                                                    [key], {});\n",
              "        if (!dataTable) return;\n",
              "\n",
              "        const docLinkHtml = 'Like what you see? Visit the ' +\n",
              "          '<a target=\"_blank\" href=https://colab.research.google.com/notebooks/data_table.ipynb>data table notebook</a>'\n",
              "          + ' to learn more about interactive tables.';\n",
              "        element.innerHTML = '';\n",
              "        dataTable['output_type'] = 'display_data';\n",
              "        await google.colab.output.renderOutput(dataTable, element);\n",
              "        const docLink = document.createElement('div');\n",
              "        docLink.innerHTML = docLinkHtml;\n",
              "        element.appendChild(docLink);\n",
              "      }\n",
              "    </script>\n",
              "  </div>\n",
              "\n",
              "\n",
              "    <div id=\"df-d1c9fc52-5497-4133-b5e4-2d7b04a786d2\">\n",
              "      <button class=\"colab-df-quickchart\" onclick=\"quickchart('df-d1c9fc52-5497-4133-b5e4-2d7b04a786d2')\"\n",
              "                title=\"Suggest charts\"\n",
              "                style=\"display:none;\">\n",
              "\n",
              "<svg xmlns=\"http://www.w3.org/2000/svg\" height=\"24px\"viewBox=\"0 0 24 24\"\n",
              "     width=\"24px\">\n",
              "    <g>\n",
              "        <path d=\"M19 3H5c-1.1 0-2 .9-2 2v14c0 1.1.9 2 2 2h14c1.1 0 2-.9 2-2V5c0-1.1-.9-2-2-2zM9 17H7v-7h2v7zm4 0h-2V7h2v10zm4 0h-2v-4h2v4z\"/>\n",
              "    </g>\n",
              "</svg>\n",
              "      </button>\n",
              "\n",
              "<style>\n",
              "  .colab-df-quickchart {\n",
              "      --bg-color: #E8F0FE;\n",
              "      --fill-color: #1967D2;\n",
              "      --hover-bg-color: #E2EBFA;\n",
              "      --hover-fill-color: #174EA6;\n",
              "      --disabled-fill-color: #AAA;\n",
              "      --disabled-bg-color: #DDD;\n",
              "  }\n",
              "\n",
              "  [theme=dark] .colab-df-quickchart {\n",
              "      --bg-color: #3B4455;\n",
              "      --fill-color: #D2E3FC;\n",
              "      --hover-bg-color: #434B5C;\n",
              "      --hover-fill-color: #FFFFFF;\n",
              "      --disabled-bg-color: #3B4455;\n",
              "      --disabled-fill-color: #666;\n",
              "  }\n",
              "\n",
              "  .colab-df-quickchart {\n",
              "    background-color: var(--bg-color);\n",
              "    border: none;\n",
              "    border-radius: 50%;\n",
              "    cursor: pointer;\n",
              "    display: none;\n",
              "    fill: var(--fill-color);\n",
              "    height: 32px;\n",
              "    padding: 0;\n",
              "    width: 32px;\n",
              "  }\n",
              "\n",
              "  .colab-df-quickchart:hover {\n",
              "    background-color: var(--hover-bg-color);\n",
              "    box-shadow: 0 1px 2px rgba(60, 64, 67, 0.3), 0 1px 3px 1px rgba(60, 64, 67, 0.15);\n",
              "    fill: var(--button-hover-fill-color);\n",
              "  }\n",
              "\n",
              "  .colab-df-quickchart-complete:disabled,\n",
              "  .colab-df-quickchart-complete:disabled:hover {\n",
              "    background-color: var(--disabled-bg-color);\n",
              "    fill: var(--disabled-fill-color);\n",
              "    box-shadow: none;\n",
              "  }\n",
              "\n",
              "  .colab-df-spinner {\n",
              "    border: 2px solid var(--fill-color);\n",
              "    border-color: transparent;\n",
              "    border-bottom-color: var(--fill-color);\n",
              "    animation:\n",
              "      spin 1s steps(1) infinite;\n",
              "  }\n",
              "\n",
              "  @keyframes spin {\n",
              "    0% {\n",
              "      border-color: transparent;\n",
              "      border-bottom-color: var(--fill-color);\n",
              "      border-left-color: var(--fill-color);\n",
              "    }\n",
              "    20% {\n",
              "      border-color: transparent;\n",
              "      border-left-color: var(--fill-color);\n",
              "      border-top-color: var(--fill-color);\n",
              "    }\n",
              "    30% {\n",
              "      border-color: transparent;\n",
              "      border-left-color: var(--fill-color);\n",
              "      border-top-color: var(--fill-color);\n",
              "      border-right-color: var(--fill-color);\n",
              "    }\n",
              "    40% {\n",
              "      border-color: transparent;\n",
              "      border-right-color: var(--fill-color);\n",
              "      border-top-color: var(--fill-color);\n",
              "    }\n",
              "    60% {\n",
              "      border-color: transparent;\n",
              "      border-right-color: var(--fill-color);\n",
              "    }\n",
              "    80% {\n",
              "      border-color: transparent;\n",
              "      border-right-color: var(--fill-color);\n",
              "      border-bottom-color: var(--fill-color);\n",
              "    }\n",
              "    90% {\n",
              "      border-color: transparent;\n",
              "      border-bottom-color: var(--fill-color);\n",
              "    }\n",
              "  }\n",
              "</style>\n",
              "\n",
              "      <script>\n",
              "        async function quickchart(key) {\n",
              "          const quickchartButtonEl =\n",
              "            document.querySelector('#' + key + ' button');\n",
              "          quickchartButtonEl.disabled = true;  // To prevent multiple clicks.\n",
              "          quickchartButtonEl.classList.add('colab-df-spinner');\n",
              "          try {\n",
              "            const charts = await google.colab.kernel.invokeFunction(\n",
              "                'suggestCharts', [key], {});\n",
              "          } catch (error) {\n",
              "            console.error('Error during call to suggestCharts:', error);\n",
              "          }\n",
              "          quickchartButtonEl.classList.remove('colab-df-spinner');\n",
              "          quickchartButtonEl.classList.add('colab-df-quickchart-complete');\n",
              "        }\n",
              "        (() => {\n",
              "          let quickchartButtonEl =\n",
              "            document.querySelector('#df-d1c9fc52-5497-4133-b5e4-2d7b04a786d2 button');\n",
              "          quickchartButtonEl.style.display =\n",
              "            google.colab.kernel.accessAllowed ? 'block' : 'none';\n",
              "        })();\n",
              "      </script>\n",
              "    </div>\n",
              "\n",
              "  <div id=\"id_cd8bc4ad-0c37-43ca-b9d6-f32347e6e15b\">\n",
              "    <style>\n",
              "      .colab-df-generate {\n",
              "        background-color: #E8F0FE;\n",
              "        border: none;\n",
              "        border-radius: 50%;\n",
              "        cursor: pointer;\n",
              "        display: none;\n",
              "        fill: #1967D2;\n",
              "        height: 32px;\n",
              "        padding: 0 0 0 0;\n",
              "        width: 32px;\n",
              "      }\n",
              "\n",
              "      .colab-df-generate:hover {\n",
              "        background-color: #E2EBFA;\n",
              "        box-shadow: 0px 1px 2px rgba(60, 64, 67, 0.3), 0px 1px 3px 1px rgba(60, 64, 67, 0.15);\n",
              "        fill: #174EA6;\n",
              "      }\n",
              "\n",
              "      [theme=dark] .colab-df-generate {\n",
              "        background-color: #3B4455;\n",
              "        fill: #D2E3FC;\n",
              "      }\n",
              "\n",
              "      [theme=dark] .colab-df-generate:hover {\n",
              "        background-color: #434B5C;\n",
              "        box-shadow: 0px 1px 3px 1px rgba(0, 0, 0, 0.15);\n",
              "        filter: drop-shadow(0px 1px 2px rgba(0, 0, 0, 0.3));\n",
              "        fill: #FFFFFF;\n",
              "      }\n",
              "    </style>\n",
              "    <button class=\"colab-df-generate\" onclick=\"generateWithVariable('multi_polys')\"\n",
              "            title=\"Generate code using this dataframe.\"\n",
              "            style=\"display:none;\">\n",
              "\n",
              "  <svg xmlns=\"http://www.w3.org/2000/svg\" height=\"24px\"viewBox=\"0 0 24 24\"\n",
              "       width=\"24px\">\n",
              "    <path d=\"M7,19H8.4L18.45,9,17,7.55,7,17.6ZM5,21V16.75L18.45,3.32a2,2,0,0,1,2.83,0l1.4,1.43a1.91,1.91,0,0,1,.58,1.4,1.91,1.91,0,0,1-.58,1.4L9.25,21ZM18.45,9,17,7.55Zm-12,3A5.31,5.31,0,0,0,4.9,8.1,5.31,5.31,0,0,0,1,6.5,5.31,5.31,0,0,0,4.9,4.9,5.31,5.31,0,0,0,6.5,1,5.31,5.31,0,0,0,8.1,4.9,5.31,5.31,0,0,0,12,6.5,5.46,5.46,0,0,0,6.5,12Z\"/>\n",
              "  </svg>\n",
              "    </button>\n",
              "    <script>\n",
              "      (() => {\n",
              "      const buttonEl =\n",
              "        document.querySelector('#id_cd8bc4ad-0c37-43ca-b9d6-f32347e6e15b button.colab-df-generate');\n",
              "      buttonEl.style.display =\n",
              "        google.colab.kernel.accessAllowed ? 'block' : 'none';\n",
              "\n",
              "      buttonEl.onclick = () => {\n",
              "        google.colab.notebook.generateWithVariable('multi_polys');\n",
              "      }\n",
              "      })();\n",
              "    </script>\n",
              "  </div>\n",
              "\n",
              "    </div>\n",
              "  </div>\n"
            ],
            "application/vnd.google.colaboratory.intrinsic+json": {
              "type": "dataframe",
              "variable_name": "multi_polys",
              "summary": "{\n  \"name\": \"multi_polys\",\n  \"rows\": 16,\n  \"fields\": [\n    {\n      \"column\": \"UNIQUE_ID\",\n      \"properties\": {\n        \"dtype\": \"number\",\n        \"std\": 720.7102862223257,\n        \"min\": 480003944.0,\n        \"max\": 480006955.0,\n        \"num_unique_values\": 16,\n        \"samples\": [\n          480004283.0,\n          480004244.0,\n          480004016.0\n        ],\n        \"semantic_type\": \"\",\n        \"description\": \"\"\n      }\n    },\n    {\n      \"column\": \"NAME\",\n      \"properties\": {\n        \"dtype\": \"string\",\n        \"num_unique_values\": 16,\n        \"samples\": [\n          \"Big Lakes County\",\n          \"Bighorn No. 8\",\n          \"Eden Valley 216\"\n        ],\n        \"semantic_type\": \"\",\n        \"description\": \"\"\n      }\n    },\n    {\n      \"column\": \"PROV\",\n      \"properties\": {\n        \"dtype\": \"category\",\n        \"num_unique_values\": 1,\n        \"samples\": [\n          \"AB\"\n        ],\n        \"semantic_type\": \"\",\n        \"description\": \"\"\n      }\n    },\n    {\n      \"column\": \"geometry\",\n      \"properties\": {\n        \"dtype\": \"geometry\",\n        \"num_unique_values\": 16,\n        \"samples\": [\n          \"MULTIPOLYGON (((-115.429262 55.334463, -115.429371 55.334983, -115.430252 55.334897, -115.442236 55.333692, -115.442026 55.33301, -115.441852 55.332446, -115.438442 55.332793, -115.437898 55.330832, -115.43729 55.331059, -115.437262 55.330165, -115.437282 55.329129, -115.437293 55.327745, -115.437307 55.325808, -115.437307 55.324951, -115.436962 55.325006, -115.43077 55.325746, -115.428209 55.326052, -115.428702 55.329927, -115.428415 55.330442, -115.429262 55.334463)), ((-115.411485 55.34042, -115.411194 55.348896, -115.411175 55.352795, -115.412043 55.352866, -115.424619 55.352775, -115.425186 55.340154, -115.411485 55.34042)), ((-115.72347 56.000117, -115.723796 56.073894, -116 56.073046, -116.035058 56.072939, -116.03674 56.072931, -116.03433 56, -116.033837 55.985071, -116.107172 55.98467, -116.22647 55.984253, -116.507147 55.984444, -116.507151 55.984401, -116.507941 55.90908, -116.507964 55.897492, -116.539349 55.897176, -116.616089 55.896792, -116.770569 55.897933, -116.817136 55.897769, -116.818643 55.897764, -116.927434 55.898286, -116.975704 55.898518, -116.974151 55.83984, -116.974146 55.839713, -116.973984 55.835539, -116.973951 55.834692, -116.974045 55.832636, -116.973501 55.82657, -116.972633 55.811789, -116.921675 55.810779, -116.921388 55.789562, -116.921141 55.782463, -116.914256 55.759647, -116.908142 55.750273, -116.89938 55.744159, -116.888783 55.738657, -116.87799 55.737785, -116.867921 55.737842, -116.845228 55.737946, -116.843741 55.723144, -116.793856 55.723115, -116.793266 55.723114, -116.794318 55.635833, -116.794495 55.621113, -116.794667 55.606844, -116.794929 55.58509, -116.795177 55.577718, -116.795005 55.569823, -116.794998 55.569496, -116.79391 55.519518, -116.792656 55.461871, -116.767527 55.461084, -116.768157 55.432826, -116.769462 55.374198, -116.847703 55.374623, -116.873113 55.374609, -116.920927 55.374587, -116.924569 55.316781, -116.924518 55.301831, -116.924426 55.287549, -116.924444 55.272788, -116.924588 55.258281, -116.924466 55.243722, -116.924439 55.229094, -116.924466 55.214638, -116.924443 55.200097, -116.924432 55.185538, -116.924431 55.171032, -116.924482 55.156498, -116.924427 55.141968, -116.924468 55.127358, -116.924437 55.125011, -116.924432 55.112547, -116.898908 55.112523, -116.874139 55.11255, -116.873174 55.112551, -116.848611 55.112562, -116.823151 55.112549, -116.797887 55.112526, -116.781092 55.112508, -116.755637 55.115158, -116.744417 55.112465, -116.739031 55.106631, -116.736787 55.101245, -116.736787 55.098104, -116.738133 55.094513, -116.739929 55.090923, -116.740826 55.08823, -116.742425 55.079889, -116.742395 55.078489, -116.742652 55.074174, -116.742767 55.06989, -116.743425 55.056969, -116.743761 55.048333, -116.745662 55.004877, -116.74587 55.001433, -116.7459 55.000278, -116.745983 54.997038, -116.746149 54.988264, -116.746518 54.957284, -116.746445 54.948453, -116.746432 54.939767, -116.74638 54.936872, -116.746276 54.929091, -116.745898 54.908129, -116.745488 54.875791, -116.745465 54.854175, -116.745427 54.850293, -116.740995 54.850357, -116.575709 54.850379, -116.45428 54.85087, -116.142982 54.850222, -116.027268 54.849945, -116 54.849704, -115.984371 54.849566, -115.984374 54.849533, -115.986769 54.782749, -115.986102 54.762068, -115.982804 54.762064, -115.967685 54.762619, -115.967672 54.758556, -115.967645 54.754718, -115.967625 54.743632, -115.967578 54.739915, -115.967559 54.72883, -115.967502 54.721449, -115.967459 54.714065, -115.967432 54.699284, -115.967345 54.688212, -115.967337 54.680792, -115.967313 54.677072, -115.967321 54.673373, -115.967236 54.662304, -115.96725 54.658603, -115.967214 54.654902, -115.967197 54.651193, -115.967145 54.643783, -115.967125 54.6327, -115.967074 54.629014, -115.967011 54.610695, -115.96697 54.607025, -115.966967 54.603299, -115.966947 54.595752, -115.966909 54.591566, -115.966913 54.589013, -115.96691 54.587896, -115.966837 54.586441, -115.966651 54.582647, -115.966454 54.578811, -115.966259 54.574915, -115.966065 54.57096, -115.965869 54.566989, -115.965442 54.559022, -115.965268 54.555071, -115.965041 54.551227, -115.964886 54.547416, -115.964484 54.539818, -115.964315 54.536036, -115.964121 54.532364, -115.964003 54.529542, -115.963972 54.528808, -115.963766 54.525231, -115.963578 54.521667, -115.963425 54.518129, -115.963222 54.514593, -115.962893 54.507523, -115.962711 54.503992, -115.962521 54.500463, -115.962492 54.500036, -115.947714 54.500041, -115.932012 54.500086, -115.929176 54.500094, -115.928785 54.500079, -115.928694 54.500095, -115.863936 54.500252, -115.862515 54.50025, -115.840244 54.500131, -115.826331 54.50006, -115.825519 54.50006, -115.745637 54.500095, -115.674419 54.500102, -115.63946 54.500126, -115.635785 54.500129, -115.597821 54.500155, -115.580888 54.500166, -115.574037 54.500138, -115.558074 54.500072, -115.530254 54.500139, -115.523837 54.500154, -115.512621 54.500135, -115.512592 54.500135, -115.490138 54.500091, -115.487895 54.500087, -115.482831 54.500077, -115.47442 54.500034, -115.461072 54.499966, -115.455496 54.499937, -115.428289 54.499798, -115.427606 54.499795, -115.363678 54.500017, -115.317314 54.500178, -115.290882 54.500324, -115.258626 54.500354, -115.220418 54.500244, -115.097752 54.499476, -115.062891 54.499296, -115.062785 54.502894, -115.060213 54.589581, -115.060195 54.590196, -115.059176 54.624365, -115.05902 54.644909, -115.057695 54.734049, -115.057548 54.76013, -115.069231 54.760136, -115.069533 54.832306, -115.06994 54.85029, -115.069528 54.884458, -115.069335 54.904221, -115.069238 54.935969, -115.069232 54.937757, -115.069625 54.946497, -115.069757 54.986513, -115.069413 55.000081, -115.066855 55.10083, -115.067082 55.11135, -115.067172 55.1116, -115.078575 55.111697, -115.078577 55.111726, -115.079495 55.133119, -115.079426 55.167111, -115.079294 55.18629, -115.079175 55.212844, -115.079218 55.229695, -115.079091 55.247782, -115.07895 55.269261, -115.07904 55.2858, -115.108325 55.286325, -115.115699 55.286363, -115.163498 55.286257, -115.221304 55.285782, -115.231787 55.28582, -115.231659 55.294865, -115.231217 55.307987, -115.231179 55.319042, -115.231677 55.330904, -115.232349 55.333718, -115.232358 55.345255, -115.232412 55.359777, -115.232411 55.360206, -115.233377 55.372122, -115.236856 55.41503, -115.241662 55.474303, -115.244641 55.511031, -115.243637 55.635789, -115.243568 55.63579, -115.243335 55.655366, -115.243594 55.655632, -115.243086 55.658778, -115.24304 55.658825, -115.242579 55.688227, -115.241779 55.744279, -115.24099 55.809117, -115.25415 55.809231, -115.253415 55.856732, -115.253294 55.864404, -115.284929 55.881308, -115.29973 55.895286, -115.31453 55.906797, -115.332209 55.908442, -115.429235 55.887886, -115.473636 55.880896, -115.515982 55.88583, -115.530539 55.886832, -115.550942 55.888566, -115.56916 55.879821, -115.598665 55.881555, -115.601094 55.881545, -115.66155 55.881284, -115.661993 55.894898, -115.662088 55.897959, -115.662084 55.898054, -115.664095 55.89804, -115.668281 55.89801, -115.722952 55.897788, -115.722954 55.898964, -115.723206 55.918808, -115.720354 55.918834, -115.706678 55.918887, -115.702329 55.929358, -115.695072 55.928473, -115.698746 55.918916, -115.671612 55.919012, -115.671728 55.921549, -115.671951 55.927402, -115.672275 55.941241, -115.679871 55.941353, -115.723214 55.941897, -115.72347 56.000117), (-116.272799 55.608969, -116.290869 55.613297, -116.279968 55.626264, -116.251773 55.61874, -116.2463 55.617138, -116.250978 55.609525, -116.254055 55.604479, -116.272799 55.608969), (-116.166336 55.550849, -116.150063 55.550825, -116.138567 55.550808, -116.138558 55.547272, -116.149868 55.547229, -116.153468 55.547215, -116.166236 55.547182, -116.166336 55.550849), (-116.170127 55.504757, -116.170047 55.511367, -116.164932 55.512018, -116.161743 55.512423, -116.158528 55.510088, -116.153914 55.509576, -116.149299 55.509234, -116.144171 55.507866, -116.139898 55.505132, -116.135284 55.503423, -116.131865 55.502397, -116.127421 55.501542, -116.124174 55.500859, -116.122123 55.500175, -116.119217 55.498808, -116.114944 55.496244, -116.10924 55.494407, -116.105234 55.493872, -116.099893 55.49227, -116.094351 55.485327, -116.050496 55.454658, -116.048169 55.441989, -116.050901 55.42059, -116.053092 55.404147, -116.107591 55.404407, -116.108238 55.403198, -116.110216 55.399505, -116.110647 55.3987, -116.111788 55.39657, -116.118755 55.399398, -116.121094 55.400348, -116.126151 55.4024, -116.127235 55.400824, -116.127686 55.400167, -116.134539 55.390193, -116.170953 55.396729, -116.171447 55.40211, -116.239117 55.403753, -116.257662 55.403741, -116.257654 55.411135, -116.257653 55.411727, -116.257676 55.418244, -116.25767 55.419017, -116.232017 55.419039, -116.171149 55.419091, -116.170127 55.504757), (-115.872195 55.42089, -115.840388 55.453932, -115.694504 55.439532, -115.58456 55.442798, -115.563555 55.367318, -115.579713 55.379688, -115.612381 55.399157, -115.673428 55.417966, -115.694878 55.413346, -115.710251 55.392097, -115.710227 55.391962, -115.705444 55.370849, -115.701691 55.36087, -115.651465 55.360669, -115.604025 55.354626, -115.655706 55.332917, -115.66587 55.330962, -115.671678 55.330858, -115.695829 55.330834, -115.697125 55.330832, -115.69717 55.33105, -115.697529 55.332795, -115.698478 55.338202, -115.70229 55.338832, -115.733729 55.344285, -115.758954 55.343411, -115.758614 55.342409, -115.758993 55.341838, -115.759088 55.341694, -115.762343 55.340505, -115.764893 55.339057, -115.76596 55.338018, -115.766555 55.337438, -115.800457 55.320581, -115.84043 55.352594, -115.842134 55.354064, -115.847278 55.358503, -115.847969 55.35922, -115.848914 55.360201, -115.84908 55.360373, -115.849653 55.360365, -115.855142 55.36029, -115.856021 55.360278, -115.89144 55.360212, -115.894604 55.360207, -115.901801 55.360103, -115.902038 55.366047, -115.90209 55.367356, -115.902139 55.368576, -115.902149 55.368824, -115.902388 55.374619, -115.902437 55.375956, -115.890797 55.4001, -115.872195 55.42089), (-115.39193 55.444401, -115.387958 55.446921, -115.381747 55.448198, -115.378674 55.448079, -115.375517 55.44696, -115.37448 55.445147, -115.376475 55.443685, -115.38055 55.441977, -115.384006 55.440097, -115.384686 55.439041, -115.384091 55.437584, -115.381724 55.43699, -115.37937 55.436809, -115.377383 55.436226, -115.37813 55.433226, -115.379972 55.43328, -115.380719 55.43028, -115.388253 55.430288, -115.396654 55.430299, -115.404215 55.430308, -115.412674 55.430315, -115.410085 55.433261, -115.404914 55.436376, -115.39193 55.444401), (-115.298973 55.433271, -115.296529 55.432165, -115.297118 55.42854, -115.298374 55.426076, -115.30101 55.420849, -115.303876 55.415683, -115.30539 55.409682, -115.305936 55.403439, -115.302528 55.397208, -115.299051 55.392706, -115.29357 55.387562, -115.288319 55.383048, -115.295559 55.382924, -115.309579 55.382683, -115.309748 55.387116, -115.310039 55.389199, -115.310998 55.404119, -115.360741 55.404287, -115.361405 55.410834, -115.374037 55.41093, -115.374651 55.404512, -115.385801 55.404373, -115.386206 55.418192, -115.371174 55.418473, -115.370388 55.419665, -115.368528 55.421324, -115.368465 55.421359, -115.365744 55.422959, -115.362927 55.423351, -115.359698 55.423012, -115.34895 55.419227, -115.342525 55.417692, -115.332687 55.414071, -115.329948 55.416204, -115.323358 55.419127, -115.320414 55.423006, -115.315441 55.42699, -115.307583 55.431268, -115.298973 55.433271), (-115.360442 55.388813, -115.360384 55.381677, -115.360351 55.377545, -115.361969 55.375602, -115.361868 55.374308, -115.373237 55.37429, -115.373548 55.362097, -115.398355 55.361744, -115.397602 55.357969, -115.397198 55.353039, -115.386066 55.353063, -115.386073 55.345199, -115.386077 55.34214, -115.386093 55.330615, -115.386082 55.323733, -115.408508 55.323593, -115.429079 55.323465, -115.437308 55.323414, -115.462953 55.323254, -115.462941 55.330628, -115.463109 55.331668, -115.474845 55.330961, -115.475843 55.345273, -115.488621 55.345285, -115.488605 55.352168, -115.437237 55.352455, -115.437248 55.359769, -115.437291 55.367289, -115.412074 55.367627, -115.412074 55.388666, -115.386063 55.388788, -115.386062 55.396133, -115.360491 55.396759, -115.360442 55.388813), (-115.516248 55.368438, -115.516404 55.362537, -115.516475 55.359777, -115.516222 55.353607, -115.528434 55.353264, -115.540444 55.352927, -115.540452 55.353026, -115.536574 55.356048, -115.528604 55.361201, -115.525458 55.36402, -115.524595 55.365483, -115.516444 55.371208, -115.516248 55.368438), (-116.48621 55.424132, -116.5 55.424117, -116.500432 55.42561, -116.501064 55.42969, -116.501975 55.430448, -116.507707 55.431132, -116.514742 55.431392, -116.52684 55.432364, -116.526071 55.441166, -116.513073 55.440988, -116.513245 55.447448, -116.488631 55.449001, -116.488644 55.447571, -116.488639 55.444573, -116.48863 55.443081, -116.462981 55.443081, -116.462973 55.440168, -116.462981 55.432846, -116.450152 55.432881, -116.447812 55.433118, -116.447238 55.433066, -116.44713 55.427162, -116.447125 55.426888, -116.447103 55.425664, -116.462937 55.425457, -116.462929 55.428173, -116.463302 55.428199, -116.464076 55.428265, -116.470264 55.428742, -116.48025 55.4295, -116.482666 55.429684, -116.485716 55.429915, -116.485693 55.428382, -116.48612 55.427702, -116.48621 55.424132), (-115.433186 54.710771, -115.433265 54.714847, -115.433351 54.728978, -115.433393 54.735833, -115.433484 54.738053, -115.430499 54.738143, -115.408683 54.738197, -115.396715 54.745698, -115.383688 54.745407, -115.357641 54.745688, -115.357515 54.715061, -115.357549 54.708465, -115.357617 54.695042, -115.399574 54.695041, -115.409602 54.695025, -115.432883 54.694989, -115.433186 54.710771)))\"\n        ],\n        \"semantic_type\": \"\",\n        \"description\": \"\"\n      }\n    },\n    {\n      \"column\": \"Obj_Npolygons\",\n      \"properties\": {\n        \"dtype\": \"number\",\n        \"std\": 0,\n        \"min\": 2,\n        \"max\": 5,\n        \"num_unique_values\": 4,\n        \"samples\": [\n          2\n        ],\n        \"semantic_type\": \"\",\n        \"description\": \"\"\n      }\n    }\n  ]\n}"
            }
          },
          "metadata": {},
          "execution_count": 14
        }
      ]
    },
    {
      "cell_type": "code",
      "source": [
        "multi_polys = multi_polys.explode(index_parts = False).reset_index(drop=True)"
      ],
      "metadata": {
        "id": "3RvETGnzIH9W"
      },
      "execution_count": 15,
      "outputs": []
    },
    {
      "cell_type": "code",
      "source": [
        "multi_polys = multi_polys.sjoin(model_areas[['ModelAreaName','geometry']],how='left',predicate='intersects')"
      ],
      "metadata": {
        "id": "BWOebnV9KLyE"
      },
      "execution_count": 17,
      "outputs": []
    },
    {
      "cell_type": "code",
      "source": [
        "multi_polys['TempName'] = multi_polys['ModelAreaName']+\"_\"+multi_polys['NAME']"
      ],
      "metadata": {
        "id": "CY9zODtcAAvw"
      },
      "execution_count": 22,
      "outputs": []
    },
    {
      "cell_type": "code",
      "source": [
        "merged = multi_polys.dissolve(by='TempName',as_index = False)"
      ],
      "metadata": {
        "id": "YpAEoALjAQSR"
      },
      "execution_count": 24,
      "outputs": []
    },
    {
      "cell_type": "code",
      "source": [
        "merged = merged[['UNIQUE_ID','NAME','PROV','ModelAreaName','geometry']]"
      ],
      "metadata": {
        "id": "1ZnJJlZiKKK0"
      },
      "execution_count": 27,
      "outputs": []
    },
    {
      "cell_type": "code",
      "source": [
        "model_area_lut = pd.concat([model_area_lut[model_area_lut['Obj_Npolygons']==1],merged],ignore_index=True)"
      ],
      "metadata": {
        "id": "TnU31-3RDNBw"
      },
      "execution_count": 28,
      "outputs": []
    },
    {
      "cell_type": "code",
      "source": [
        "model_area_lut= model_area_lut.drop(columns=['Obj_Npolygons'])"
      ],
      "metadata": {
        "id": "H9asxeViDPmO"
      },
      "execution_count": 29,
      "outputs": []
    },
    {
      "cell_type": "code",
      "source": [
        "model_area_lut"
      ],
      "metadata": {
        "id": "5A0RWKMiDSaR",
        "outputId": "9fc234f4-a716-4cc1-bfc2-395ef1f275d3",
        "colab": {
          "base_uri": "https://localhost:8080/",
          "height": 424
        }
      },
      "execution_count": 30,
      "outputs": [
        {
          "output_type": "execute_result",
          "data": {
            "text/plain": [
              "       UNIQUE_ID             NAME PROV  \\\n",
              "0    480003962.0    Acadia No. 34   AB   \n",
              "1    480003992.0             Acme   AB   \n",
              "2    480004006.0          Airdrie   AB   \n",
              "3    480004209.0    Alberta Beach   AB   \n",
              "4    480004169.0    Alexander 134   AB   \n",
              "..           ...              ...  ...   \n",
              "428  480006955.0    Loon Lake 235   AB   \n",
              "429  480004307.0    Sawridge 150G   AB   \n",
              "430  480004306.0  Swan River 150E   AB   \n",
              "431  480004170.0     Wabamun 133A   AB   \n",
              "432  480004040.0         Daysland   AB   \n",
              "\n",
              "                                              geometry ModelAreaName  \n",
              "0    POLYGON ((-110.00516 51.27035, -110.00516 51.2...           NaN  \n",
              "1    POLYGON ((-113.49754 51.49567, -113.4975 51.50...           NaN  \n",
              "2    POLYGON ((-113.98012 51.32894, -113.98476 51.3...           NaN  \n",
              "3    POLYGON ((-114.37018 53.66819, -114.37019 53.6...           NaN  \n",
              "4    POLYGON ((-114.04118 53.77305, -114.03071 53.7...           NaN  \n",
              "..                                                 ...           ...  \n",
              "428  MULTIPOLYGON (((-115.43421 56.46436, -115.4329...     SlaveLake  \n",
              "429  MULTIPOLYGON (((-114.6685 55.2868, -114.66843 ...     SlaveLake  \n",
              "430  MULTIPOLYGON (((-115.38607 55.35306, -115.3860...     SlaveLake  \n",
              "431  MULTIPOLYGON (((-114.30882 53.497, -114.30875 ...   SpruceGrove  \n",
              "432  MULTIPOLYGON (((-112.26304 52.87249, -112.2603...    Wainwright  \n",
              "\n",
              "[433 rows x 5 columns]"
            ],
            "text/html": [
              "\n",
              "  <div id=\"df-a330e800-7610-4f11-a266-5cef56258d31\" class=\"colab-df-container\">\n",
              "    <div>\n",
              "<style scoped>\n",
              "    .dataframe tbody tr th:only-of-type {\n",
              "        vertical-align: middle;\n",
              "    }\n",
              "\n",
              "    .dataframe tbody tr th {\n",
              "        vertical-align: top;\n",
              "    }\n",
              "\n",
              "    .dataframe thead th {\n",
              "        text-align: right;\n",
              "    }\n",
              "</style>\n",
              "<table border=\"1\" class=\"dataframe\">\n",
              "  <thead>\n",
              "    <tr style=\"text-align: right;\">\n",
              "      <th></th>\n",
              "      <th>UNIQUE_ID</th>\n",
              "      <th>NAME</th>\n",
              "      <th>PROV</th>\n",
              "      <th>geometry</th>\n",
              "      <th>ModelAreaName</th>\n",
              "    </tr>\n",
              "  </thead>\n",
              "  <tbody>\n",
              "    <tr>\n",
              "      <th>0</th>\n",
              "      <td>480003962.0</td>\n",
              "      <td>Acadia No. 34</td>\n",
              "      <td>AB</td>\n",
              "      <td>POLYGON ((-110.00516 51.27035, -110.00516 51.2...</td>\n",
              "      <td>NaN</td>\n",
              "    </tr>\n",
              "    <tr>\n",
              "      <th>1</th>\n",
              "      <td>480003992.0</td>\n",
              "      <td>Acme</td>\n",
              "      <td>AB</td>\n",
              "      <td>POLYGON ((-113.49754 51.49567, -113.4975 51.50...</td>\n",
              "      <td>NaN</td>\n",
              "    </tr>\n",
              "    <tr>\n",
              "      <th>2</th>\n",
              "      <td>480004006.0</td>\n",
              "      <td>Airdrie</td>\n",
              "      <td>AB</td>\n",
              "      <td>POLYGON ((-113.98012 51.32894, -113.98476 51.3...</td>\n",
              "      <td>NaN</td>\n",
              "    </tr>\n",
              "    <tr>\n",
              "      <th>3</th>\n",
              "      <td>480004209.0</td>\n",
              "      <td>Alberta Beach</td>\n",
              "      <td>AB</td>\n",
              "      <td>POLYGON ((-114.37018 53.66819, -114.37019 53.6...</td>\n",
              "      <td>NaN</td>\n",
              "    </tr>\n",
              "    <tr>\n",
              "      <th>4</th>\n",
              "      <td>480004169.0</td>\n",
              "      <td>Alexander 134</td>\n",
              "      <td>AB</td>\n",
              "      <td>POLYGON ((-114.04118 53.77305, -114.03071 53.7...</td>\n",
              "      <td>NaN</td>\n",
              "    </tr>\n",
              "    <tr>\n",
              "      <th>...</th>\n",
              "      <td>...</td>\n",
              "      <td>...</td>\n",
              "      <td>...</td>\n",
              "      <td>...</td>\n",
              "      <td>...</td>\n",
              "    </tr>\n",
              "    <tr>\n",
              "      <th>428</th>\n",
              "      <td>480006955.0</td>\n",
              "      <td>Loon Lake 235</td>\n",
              "      <td>AB</td>\n",
              "      <td>MULTIPOLYGON (((-115.43421 56.46436, -115.4329...</td>\n",
              "      <td>SlaveLake</td>\n",
              "    </tr>\n",
              "    <tr>\n",
              "      <th>429</th>\n",
              "      <td>480004307.0</td>\n",
              "      <td>Sawridge 150G</td>\n",
              "      <td>AB</td>\n",
              "      <td>MULTIPOLYGON (((-114.6685 55.2868, -114.66843 ...</td>\n",
              "      <td>SlaveLake</td>\n",
              "    </tr>\n",
              "    <tr>\n",
              "      <th>430</th>\n",
              "      <td>480004306.0</td>\n",
              "      <td>Swan River 150E</td>\n",
              "      <td>AB</td>\n",
              "      <td>MULTIPOLYGON (((-115.38607 55.35306, -115.3860...</td>\n",
              "      <td>SlaveLake</td>\n",
              "    </tr>\n",
              "    <tr>\n",
              "      <th>431</th>\n",
              "      <td>480004170.0</td>\n",
              "      <td>Wabamun 133A</td>\n",
              "      <td>AB</td>\n",
              "      <td>MULTIPOLYGON (((-114.30882 53.497, -114.30875 ...</td>\n",
              "      <td>SpruceGrove</td>\n",
              "    </tr>\n",
              "    <tr>\n",
              "      <th>432</th>\n",
              "      <td>480004040.0</td>\n",
              "      <td>Daysland</td>\n",
              "      <td>AB</td>\n",
              "      <td>MULTIPOLYGON (((-112.26304 52.87249, -112.2603...</td>\n",
              "      <td>Wainwright</td>\n",
              "    </tr>\n",
              "  </tbody>\n",
              "</table>\n",
              "<p>433 rows × 5 columns</p>\n",
              "</div>\n",
              "    <div class=\"colab-df-buttons\">\n",
              "\n",
              "  <div class=\"colab-df-container\">\n",
              "    <button class=\"colab-df-convert\" onclick=\"convertToInteractive('df-a330e800-7610-4f11-a266-5cef56258d31')\"\n",
              "            title=\"Convert this dataframe to an interactive table.\"\n",
              "            style=\"display:none;\">\n",
              "\n",
              "  <svg xmlns=\"http://www.w3.org/2000/svg\" height=\"24px\" viewBox=\"0 -960 960 960\">\n",
              "    <path d=\"M120-120v-720h720v720H120Zm60-500h600v-160H180v160Zm220 220h160v-160H400v160Zm0 220h160v-160H400v160ZM180-400h160v-160H180v160Zm440 0h160v-160H620v160ZM180-180h160v-160H180v160Zm440 0h160v-160H620v160Z\"/>\n",
              "  </svg>\n",
              "    </button>\n",
              "\n",
              "  <style>\n",
              "    .colab-df-container {\n",
              "      display:flex;\n",
              "      gap: 12px;\n",
              "    }\n",
              "\n",
              "    .colab-df-convert {\n",
              "      background-color: #E8F0FE;\n",
              "      border: none;\n",
              "      border-radius: 50%;\n",
              "      cursor: pointer;\n",
              "      display: none;\n",
              "      fill: #1967D2;\n",
              "      height: 32px;\n",
              "      padding: 0 0 0 0;\n",
              "      width: 32px;\n",
              "    }\n",
              "\n",
              "    .colab-df-convert:hover {\n",
              "      background-color: #E2EBFA;\n",
              "      box-shadow: 0px 1px 2px rgba(60, 64, 67, 0.3), 0px 1px 3px 1px rgba(60, 64, 67, 0.15);\n",
              "      fill: #174EA6;\n",
              "    }\n",
              "\n",
              "    .colab-df-buttons div {\n",
              "      margin-bottom: 4px;\n",
              "    }\n",
              "\n",
              "    [theme=dark] .colab-df-convert {\n",
              "      background-color: #3B4455;\n",
              "      fill: #D2E3FC;\n",
              "    }\n",
              "\n",
              "    [theme=dark] .colab-df-convert:hover {\n",
              "      background-color: #434B5C;\n",
              "      box-shadow: 0px 1px 3px 1px rgba(0, 0, 0, 0.15);\n",
              "      filter: drop-shadow(0px 1px 2px rgba(0, 0, 0, 0.3));\n",
              "      fill: #FFFFFF;\n",
              "    }\n",
              "  </style>\n",
              "\n",
              "    <script>\n",
              "      const buttonEl =\n",
              "        document.querySelector('#df-a330e800-7610-4f11-a266-5cef56258d31 button.colab-df-convert');\n",
              "      buttonEl.style.display =\n",
              "        google.colab.kernel.accessAllowed ? 'block' : 'none';\n",
              "\n",
              "      async function convertToInteractive(key) {\n",
              "        const element = document.querySelector('#df-a330e800-7610-4f11-a266-5cef56258d31');\n",
              "        const dataTable =\n",
              "          await google.colab.kernel.invokeFunction('convertToInteractive',\n",
              "                                                    [key], {});\n",
              "        if (!dataTable) return;\n",
              "\n",
              "        const docLinkHtml = 'Like what you see? Visit the ' +\n",
              "          '<a target=\"_blank\" href=https://colab.research.google.com/notebooks/data_table.ipynb>data table notebook</a>'\n",
              "          + ' to learn more about interactive tables.';\n",
              "        element.innerHTML = '';\n",
              "        dataTable['output_type'] = 'display_data';\n",
              "        await google.colab.output.renderOutput(dataTable, element);\n",
              "        const docLink = document.createElement('div');\n",
              "        docLink.innerHTML = docLinkHtml;\n",
              "        element.appendChild(docLink);\n",
              "      }\n",
              "    </script>\n",
              "  </div>\n",
              "\n",
              "\n",
              "    <div id=\"df-50e1e7e1-af81-49f8-8f20-a89321e55b90\">\n",
              "      <button class=\"colab-df-quickchart\" onclick=\"quickchart('df-50e1e7e1-af81-49f8-8f20-a89321e55b90')\"\n",
              "                title=\"Suggest charts\"\n",
              "                style=\"display:none;\">\n",
              "\n",
              "<svg xmlns=\"http://www.w3.org/2000/svg\" height=\"24px\"viewBox=\"0 0 24 24\"\n",
              "     width=\"24px\">\n",
              "    <g>\n",
              "        <path d=\"M19 3H5c-1.1 0-2 .9-2 2v14c0 1.1.9 2 2 2h14c1.1 0 2-.9 2-2V5c0-1.1-.9-2-2-2zM9 17H7v-7h2v7zm4 0h-2V7h2v10zm4 0h-2v-4h2v4z\"/>\n",
              "    </g>\n",
              "</svg>\n",
              "      </button>\n",
              "\n",
              "<style>\n",
              "  .colab-df-quickchart {\n",
              "      --bg-color: #E8F0FE;\n",
              "      --fill-color: #1967D2;\n",
              "      --hover-bg-color: #E2EBFA;\n",
              "      --hover-fill-color: #174EA6;\n",
              "      --disabled-fill-color: #AAA;\n",
              "      --disabled-bg-color: #DDD;\n",
              "  }\n",
              "\n",
              "  [theme=dark] .colab-df-quickchart {\n",
              "      --bg-color: #3B4455;\n",
              "      --fill-color: #D2E3FC;\n",
              "      --hover-bg-color: #434B5C;\n",
              "      --hover-fill-color: #FFFFFF;\n",
              "      --disabled-bg-color: #3B4455;\n",
              "      --disabled-fill-color: #666;\n",
              "  }\n",
              "\n",
              "  .colab-df-quickchart {\n",
              "    background-color: var(--bg-color);\n",
              "    border: none;\n",
              "    border-radius: 50%;\n",
              "    cursor: pointer;\n",
              "    display: none;\n",
              "    fill: var(--fill-color);\n",
              "    height: 32px;\n",
              "    padding: 0;\n",
              "    width: 32px;\n",
              "  }\n",
              "\n",
              "  .colab-df-quickchart:hover {\n",
              "    background-color: var(--hover-bg-color);\n",
              "    box-shadow: 0 1px 2px rgba(60, 64, 67, 0.3), 0 1px 3px 1px rgba(60, 64, 67, 0.15);\n",
              "    fill: var(--button-hover-fill-color);\n",
              "  }\n",
              "\n",
              "  .colab-df-quickchart-complete:disabled,\n",
              "  .colab-df-quickchart-complete:disabled:hover {\n",
              "    background-color: var(--disabled-bg-color);\n",
              "    fill: var(--disabled-fill-color);\n",
              "    box-shadow: none;\n",
              "  }\n",
              "\n",
              "  .colab-df-spinner {\n",
              "    border: 2px solid var(--fill-color);\n",
              "    border-color: transparent;\n",
              "    border-bottom-color: var(--fill-color);\n",
              "    animation:\n",
              "      spin 1s steps(1) infinite;\n",
              "  }\n",
              "\n",
              "  @keyframes spin {\n",
              "    0% {\n",
              "      border-color: transparent;\n",
              "      border-bottom-color: var(--fill-color);\n",
              "      border-left-color: var(--fill-color);\n",
              "    }\n",
              "    20% {\n",
              "      border-color: transparent;\n",
              "      border-left-color: var(--fill-color);\n",
              "      border-top-color: var(--fill-color);\n",
              "    }\n",
              "    30% {\n",
              "      border-color: transparent;\n",
              "      border-left-color: var(--fill-color);\n",
              "      border-top-color: var(--fill-color);\n",
              "      border-right-color: var(--fill-color);\n",
              "    }\n",
              "    40% {\n",
              "      border-color: transparent;\n",
              "      border-right-color: var(--fill-color);\n",
              "      border-top-color: var(--fill-color);\n",
              "    }\n",
              "    60% {\n",
              "      border-color: transparent;\n",
              "      border-right-color: var(--fill-color);\n",
              "    }\n",
              "    80% {\n",
              "      border-color: transparent;\n",
              "      border-right-color: var(--fill-color);\n",
              "      border-bottom-color: var(--fill-color);\n",
              "    }\n",
              "    90% {\n",
              "      border-color: transparent;\n",
              "      border-bottom-color: var(--fill-color);\n",
              "    }\n",
              "  }\n",
              "</style>\n",
              "\n",
              "      <script>\n",
              "        async function quickchart(key) {\n",
              "          const quickchartButtonEl =\n",
              "            document.querySelector('#' + key + ' button');\n",
              "          quickchartButtonEl.disabled = true;  // To prevent multiple clicks.\n",
              "          quickchartButtonEl.classList.add('colab-df-spinner');\n",
              "          try {\n",
              "            const charts = await google.colab.kernel.invokeFunction(\n",
              "                'suggestCharts', [key], {});\n",
              "          } catch (error) {\n",
              "            console.error('Error during call to suggestCharts:', error);\n",
              "          }\n",
              "          quickchartButtonEl.classList.remove('colab-df-spinner');\n",
              "          quickchartButtonEl.classList.add('colab-df-quickchart-complete');\n",
              "        }\n",
              "        (() => {\n",
              "          let quickchartButtonEl =\n",
              "            document.querySelector('#df-50e1e7e1-af81-49f8-8f20-a89321e55b90 button');\n",
              "          quickchartButtonEl.style.display =\n",
              "            google.colab.kernel.accessAllowed ? 'block' : 'none';\n",
              "        })();\n",
              "      </script>\n",
              "    </div>\n",
              "\n",
              "  <div id=\"id_b43e867f-0d08-495a-a10f-d35605461dff\">\n",
              "    <style>\n",
              "      .colab-df-generate {\n",
              "        background-color: #E8F0FE;\n",
              "        border: none;\n",
              "        border-radius: 50%;\n",
              "        cursor: pointer;\n",
              "        display: none;\n",
              "        fill: #1967D2;\n",
              "        height: 32px;\n",
              "        padding: 0 0 0 0;\n",
              "        width: 32px;\n",
              "      }\n",
              "\n",
              "      .colab-df-generate:hover {\n",
              "        background-color: #E2EBFA;\n",
              "        box-shadow: 0px 1px 2px rgba(60, 64, 67, 0.3), 0px 1px 3px 1px rgba(60, 64, 67, 0.15);\n",
              "        fill: #174EA6;\n",
              "      }\n",
              "\n",
              "      [theme=dark] .colab-df-generate {\n",
              "        background-color: #3B4455;\n",
              "        fill: #D2E3FC;\n",
              "      }\n",
              "\n",
              "      [theme=dark] .colab-df-generate:hover {\n",
              "        background-color: #434B5C;\n",
              "        box-shadow: 0px 1px 3px 1px rgba(0, 0, 0, 0.15);\n",
              "        filter: drop-shadow(0px 1px 2px rgba(0, 0, 0, 0.3));\n",
              "        fill: #FFFFFF;\n",
              "      }\n",
              "    </style>\n",
              "    <button class=\"colab-df-generate\" onclick=\"generateWithVariable('model_area_lut')\"\n",
              "            title=\"Generate code using this dataframe.\"\n",
              "            style=\"display:none;\">\n",
              "\n",
              "  <svg xmlns=\"http://www.w3.org/2000/svg\" height=\"24px\"viewBox=\"0 0 24 24\"\n",
              "       width=\"24px\">\n",
              "    <path d=\"M7,19H8.4L18.45,9,17,7.55,7,17.6ZM5,21V16.75L18.45,3.32a2,2,0,0,1,2.83,0l1.4,1.43a1.91,1.91,0,0,1,.58,1.4,1.91,1.91,0,0,1-.58,1.4L9.25,21ZM18.45,9,17,7.55Zm-12,3A5.31,5.31,0,0,0,4.9,8.1,5.31,5.31,0,0,0,1,6.5,5.31,5.31,0,0,0,4.9,4.9,5.31,5.31,0,0,0,6.5,1,5.31,5.31,0,0,0,8.1,4.9,5.31,5.31,0,0,0,12,6.5,5.46,5.46,0,0,0,6.5,12Z\"/>\n",
              "  </svg>\n",
              "    </button>\n",
              "    <script>\n",
              "      (() => {\n",
              "      const buttonEl =\n",
              "        document.querySelector('#id_b43e867f-0d08-495a-a10f-d35605461dff button.colab-df-generate');\n",
              "      buttonEl.style.display =\n",
              "        google.colab.kernel.accessAllowed ? 'block' : 'none';\n",
              "\n",
              "      buttonEl.onclick = () => {\n",
              "        google.colab.notebook.generateWithVariable('model_area_lut');\n",
              "      }\n",
              "      })();\n",
              "    </script>\n",
              "  </div>\n",
              "\n",
              "    </div>\n",
              "  </div>\n"
            ],
            "application/vnd.google.colaboratory.intrinsic+json": {
              "type": "dataframe",
              "variable_name": "model_area_lut",
              "summary": "{\n  \"name\": \"model_area_lut\",\n  \"rows\": 433,\n  \"fields\": [\n    {\n      \"column\": \"UNIQUE_ID\",\n      \"properties\": {\n        \"dtype\": \"number\",\n        \"std\": 439.89558429874745,\n        \"min\": 480003914.0,\n        \"max\": 480006960.0,\n        \"num_unique_values\": 425,\n        \"samples\": [\n          480003944.0,\n          480004262.0,\n          480004121.0\n        ],\n        \"semantic_type\": \"\",\n        \"description\": \"\"\n      }\n    },\n    {\n      \"column\": \"NAME\",\n      \"properties\": {\n        \"dtype\": \"string\",\n        \"num_unique_values\": 424,\n        \"samples\": [\n          \"Grande Cache\",\n          \"Raymond\",\n          \"Improvement District No. 12 Jasper Park\"\n        ],\n        \"semantic_type\": \"\",\n        \"description\": \"\"\n      }\n    },\n    {\n      \"column\": \"PROV\",\n      \"properties\": {\n        \"dtype\": \"category\",\n        \"num_unique_values\": 1,\n        \"samples\": [\n          \"AB\"\n        ],\n        \"semantic_type\": \"\",\n        \"description\": \"\"\n      }\n    },\n    {\n      \"column\": \"geometry\",\n      \"properties\": {\n        \"dtype\": \"geometry\",\n        \"num_unique_values\": 433,\n        \"samples\": [\n          \"POLYGON ((-112.823549 49.5651, -112.823471 49.565227, -112.823363 49.565309, -112.82301 49.565477, -112.822834 49.565597, -112.822755 49.565688, -112.82266 49.566121, -112.822678 49.566607, -112.822737 49.566687, -112.822878 49.566783, -112.823259 49.566984, -112.824401 49.567191, -112.824817 49.567212, -112.825341 49.567185, -112.825451 49.567157, -112.825777 49.567007, -112.825871 49.566925, -112.825812 49.566827, -112.825851 49.566763, -112.826489 49.566439, -112.826626 49.566391, -112.826936 49.566189, -112.827321 49.56576, -112.827711 49.565466, -112.827884 49.565283, -112.828086 49.565136, -112.828442 49.565031, -112.828774 49.565035, -112.830164 49.565211, -112.830951 49.56519, -112.831408 49.565209, -112.831659 49.565241, -112.8323 49.565393, -112.832582 49.565545, -112.832744 49.565637, -112.832761 49.565624, -112.833413 49.565248, -112.833961 49.564941, -112.83484 49.564468, -112.83617 49.563991, -112.83686 49.563744, -112.837747 49.563482, -112.83853 49.563119, -112.839065 49.562648, -112.839555 49.562131, -112.840064 49.561555, -112.840657 49.56079, -112.840946 49.560114, -112.841173 49.559656, -112.841073 49.559243, -112.840811 49.558746, -112.840493 49.558308, -112.839799 49.55799, -112.839054 49.557744, -112.838371 49.557516, -112.83744 49.557289, -112.836902 49.557103, -112.836121 49.55687, -112.835726 49.556745, -112.835187 49.556722, -112.834625 49.556643, -112.834143 49.556519, -112.833713 49.5563, -112.833274 49.555981, -112.832928 49.55567, -112.832745 49.555377, -112.832643 49.554418, -112.832675 49.553866, -112.832828 49.553337, -112.832918 49.553076, -112.832911 49.552827, -112.832737 49.552301, -112.83238 49.551733, -112.832289 49.551476, -112.832221 49.551153, -112.83222 49.550774, -112.832076 49.550528, -112.831703 49.550139, -112.831321 49.549872, -112.830721 49.549607, -112.830285 49.549473, -112.829272 49.549148, -112.828665 49.548912, -112.82827 49.548816, -112.82767 49.548829, -112.826199 49.548786, -112.825821 49.548778, -112.825275 49.548853, -112.824899 49.548862, -112.824603 49.548757, -112.824363 49.548607, -112.824219 49.548362, -112.824049 49.547983, -112.824037 49.547708, -112.824188 49.547535, -112.824714 49.547242, -112.825173 49.547057, -112.826852 49.546785, -112.827566 49.546737, -112.828507 49.546635, -112.829452 49.546567, -112.830668 49.546528, -112.832087 49.546471, -112.832751 49.546343, -112.833343 49.546174, -112.833869 49.545964, -112.834201 49.545677, -112.83435 49.545445, -112.83447 49.545103, -112.8346 49.544695, -112.834655 49.54423, -112.834609 49.543934, -112.834601 49.543695, -112.834665 49.543191, -112.8348 49.542975, -112.835112 49.542609, -112.835284 49.541947, -112.835617 49.541287, -112.836571 49.540026, -112.836707 49.539602, -112.83684 49.539271, -112.837108 49.539015, -112.837573 49.538675, -112.837896 49.538524, -112.838204 49.538456, -112.838524 49.53841, -112.838907 49.538457, -112.83925 49.538538, -112.839539 49.538657, -112.839774 49.53884, -112.839924 49.539083, -112.840034 49.539334, -112.840078 49.539612, -112.840015 49.539994, -112.840006 49.540547, -112.839772 49.541216, -112.839526 49.541624, -112.838773 49.542683, -112.838665 49.543049, -112.838677 49.543544, -112.838744 49.543936, -112.838892 49.544329, -112.839215 49.544677, -112.839668 49.544996, -112.840237 49.545354, -112.840538 49.54551, -112.841026 49.545742, -112.841424 49.545929, -112.841966 49.54611, -112.842747 49.546133, -112.843608 49.546046, -112.844523 49.545921, -112.845312 49.54585, -112.845933 49.545764, -112.846485 49.545701, -112.847193 49.545517, -112.847836 49.54532, -112.849734 49.544878, -112.850527 49.544635, -112.851017 49.544383, -112.851417 49.544072, -112.851823 49.543496, -112.852197 49.542983, -112.852456 49.542473, -112.852819 49.542093, -112.853695 49.541379, -112.854494 49.540826, -112.855186 49.540458, -112.856079 49.540013, -112.856733 49.539839, -112.857526 49.53976, -112.857989 49.539764, -112.858309 49.539829, -112.858639 49.539971, -112.85886 49.540098, -112.859243 49.540395, -112.859388 49.540587, -112.85958 49.541064, -112.859837 49.541593, -112.860339 49.542255, -112.860774 49.542706, -112.861203 49.54309, -112.861544 49.543376, -112.861858 49.54354, -112.862242 49.543728, -112.862648 49.543805, -112.863271 49.543876, -112.863758 49.543953, -112.864285 49.544091, -112.864689 49.544207, -112.865159 49.544376, -112.865797 49.544684, -112.866313 49.54497, -112.866576 49.545106, -112.86702 49.545282, -112.867376 49.545389, -112.867728 49.545515, -112.868049 49.54561, -112.868473 49.545707, -112.868921 49.545724, -112.869499 49.545683, -112.869856 49.545652, -112.870259 49.545583, -112.870794 49.545278, -112.871121 49.545136, -112.871629 49.544904, -112.872707 49.544547, -112.873272 49.544426, -112.874319 49.544232, -112.874925 49.544076, -112.875379 49.543799, -112.875702 49.543522, -112.875795 49.543158, -112.875737 49.542672, -112.875543 49.542304, -112.875109 49.541883, -112.874556 49.541487, -112.873479 49.540929, -112.872831 49.540379, -112.872299 49.539911, -112.871961 49.539506, -112.871535 49.539073, -112.870905 49.538445, -112.87082 49.5382, -112.870773 49.537652, -112.870858 49.537466, -112.870993 49.53732, -112.871227 49.53714, -112.871776 49.536958, -112.872511 49.536785, -112.873199 49.536661, -112.874658 49.536623, -112.875687 49.536619, -112.876259 49.536579, -112.876633 49.536526, -112.877022 49.536429, -112.87735 49.536317, -112.877539 49.536216, -112.877704 49.536101, -112.877852 49.53595, -112.877966 49.535778, -112.878008 49.535593, -112.877959 49.535418, -112.877859 49.535254, -112.877606 49.534997, -112.877157 49.534657, -112.876673 49.534226, -112.876026 49.533832, -112.8753 49.533426, -112.874555 49.532927, -112.874113 49.532659, -112.873834 49.53235, -112.873481 49.531763, -112.873355 49.531497, -112.873056 49.531221, -112.872617 49.530762, -112.872143 49.530001, -112.871955 49.529103, -112.871948 49.528547, -112.871951 49.528066, -112.872038 49.527539, -112.872249 49.52709, -112.872674 49.526495, -112.87312 49.526176, -112.873796 49.525888, -112.874244 49.525739, -112.874552 49.5257, -112.874913 49.525717, -112.87537 49.525821, -112.876023 49.525979, -112.876847 49.52625, -112.877758 49.526467, -112.8786 49.526788, -112.879268 49.526972, -112.881097 49.527611, -112.882358 49.528185, -112.883774 49.52879, -112.884691 49.529183, -112.885181 49.529405, -112.885857 49.529744, -112.88626 49.529967, -112.886623 49.53017, -112.886892 49.530333, -112.887273 49.530654, -112.887706 49.531198, -112.887909 49.531443, -112.888513 49.532076, -112.888887 49.532633, -112.889096 49.533167, -112.889526 49.53379, -112.890051 49.534508, -112.890367 49.534898, -112.890649 49.535226, -112.89103 49.535573, -112.891525 49.535874, -112.891985 49.536038, -112.892259 49.5361, -112.892645 49.536179, -112.893192 49.536245, -112.89383 49.536304, -112.894297 49.536315, -112.894884 49.536235, -112.89597 49.536046, -112.896838 49.535722, -112.897614 49.535332, -112.898332 49.534725, -112.898777 49.534221, -112.899097 49.533941, -112.899609 49.533523, -112.89965 49.533269, -112.899639 49.532319, -112.899541 49.53159, -112.899338 49.52986, -112.899122 49.529159, -112.89878 49.528803, -112.898487 49.528579, -112.897976 49.528332, -112.89701 49.52818, -112.89591 49.528022, -112.894845 49.527986, -112.893984 49.528033, -112.893157 49.52806, -112.892117 49.527974, -112.891314 49.527757, -112.890799 49.527653, -112.89014 49.527487, -112.889164 49.527037, -112.88757 49.526122, -112.886424 49.525432, -112.885615 49.524857, -112.885449 49.524652, -112.885361 49.524471, -112.885333 49.524042, -112.885429 49.52328, -112.885524 49.523127, -112.885593 49.52301, -112.885942 49.522756, -112.886312 49.522609, -112.886961 49.522593, -112.887676 49.522687, -112.88873 49.52295, -112.889452 49.523127, -112.890061 49.5232, -112.890625 49.523243, -112.891218 49.523119, -112.891666 49.52301, -112.892212 49.522756, -112.893072 49.522306, -112.893916 49.521909, -112.894755 49.521503, -112.895271 49.521204, -112.896002 49.520898, -112.897205 49.520461, -112.898464 49.520059, -112.899349 49.519809, -112.900069 49.519648, -112.901148 49.519447, -112.901931 49.519336, -112.902511 49.519271, -112.90293 49.519247, -112.903156 49.519316, -112.903496 49.519418, -112.903786 49.519441, -112.904142 49.51941, -112.904581 49.519368, -112.905017 49.519335, -112.905471 49.519418, -112.905959 49.519623, -112.90648 49.520014, -112.906728 49.520304, -112.907 49.52075, -112.907041 49.52116, -112.90715 49.521574, -112.907328 49.522009, -112.907633 49.522464, -112.907861 49.523089, -112.907972 49.523411, -112.907985 49.523713, -112.908112 49.524799, -112.90802 49.525512, -112.907918 49.526026, -112.907664 49.526558, -112.907236 49.52755, -112.907043 49.527794, -112.906867 49.528043, -112.906756 49.528415, -112.90654 49.528977, -112.906378 49.529183, -112.906095 49.529327, -112.905793 49.529572, -112.905521 49.529902, -112.90531 49.530334, -112.905095 49.530802, -112.905113 49.531168, -112.905234 49.531479, -112.905453 49.531784, -112.90596 49.532178, -112.906572 49.532587, -112.90722 49.532886, -112.907845 49.533101, -112.908571 49.533172, -112.909037 49.533168, -112.909589 49.533132, -112.910175 49.532994, -112.91087 49.532814, -112.911575 49.532653, -112.91259 49.532233, -112.91353 49.531933, -112.913968 49.531779, -112.914373 49.531576, -112.914523 49.531374, -112.914653 49.53108, -112.914676 49.530583, -112.914645 49.530414, -112.914285 49.52987, -112.91401 49.529626, -112.913727 49.529464, -112.913306 49.529235, -112.91285 49.528814, -112.912571 49.528466, -112.912275 49.527989, -112.912079 49.527534, -112.912045 49.527026, -112.912048 49.526422, -112.91217 49.52596, -112.912311 49.525631, -112.91259 49.525271, -112.913439 49.524731, -112.914325 49.524468, -112.915139 49.524222, -112.915608 49.524085, -112.91631 49.523919, -112.916612 49.523784, -112.916959 49.523651, -112.917356 49.52353, -112.917668 49.523484, -112.91801 49.52348, -112.918492 49.523548, -112.919049 49.523674, -112.919834 49.523941, -112.920291 49.524072, -112.920632 49.524261, -112.921306 49.524802, -112.922067 49.525316, -112.922623 49.525703, -112.923021 49.525944, -112.923808 49.52634, -112.924927 49.526797, -112.925575 49.527054, -112.926143 49.527242, -112.926584 49.527385, -112.926803 49.527605, -112.92742 49.528441, -112.927743 49.528803, -112.928337 49.529347, -112.929079 49.529905, -112.929532 49.530153, -112.930073 49.530443, -112.93054 49.53087, -112.93094 49.531198, -112.931474 49.53153, -112.931765 49.531763, -112.93196 49.532049, -112.93224 49.532538, -112.932372 49.532814, -112.932706 49.533238, -112.933077 49.533566, -112.933484 49.533837, -112.933895 49.534075, -112.934332 49.534251, -112.934853 49.534392, -112.935194 49.534525, -112.935577 49.5346, -112.936071 49.534634, -112.936555 49.534623, -112.93707 49.534584, -112.93807 49.534401, -112.938679 49.53407, -112.939348 49.533744, -112.940097 49.533318, -112.94038 49.533038, -112.940497 49.532746, -112.940719 49.532419, -112.941192 49.532136, -112.941883 49.531852, -112.942182 49.53164, -112.942384 49.531442, -112.942486 49.531122, -112.942714 49.530805, -112.942702 49.53059, -112.942661 49.53043, -112.942236 49.52997, -112.942042 49.529562, -112.942013 49.529078, -112.941955 49.528595, -112.941771 49.528275, -112.941559 49.52808, -112.941381 49.527952, -112.941073 49.527868, -112.940489 49.527717, -112.939551 49.527508, -112.938912 49.527406, -112.937842 49.527363, -112.93731 49.527298, -112.936246 49.527222, -112.935376 49.527059, -112.934754 49.526933, -112.933305 49.526532, -112.932782 49.5264, -112.931772 49.526247, -112.93119 49.526129, -112.930377 49.525824, -112.929998 49.525577, -112.929126 49.524937, -112.928634 49.524491, -112.927751 49.523428, -112.927561 49.522819, -112.927529 49.522287, -112.927656 49.521792, -112.927878 49.521493, -112.928496 49.520932, -112.929795 49.520344, -112.930501 49.520017, -112.931277 49.519811, -112.932257 49.519644, -112.932834 49.51953, -112.933549 49.519362, -112.934267 49.519072, -112.935442 49.518608, -112.935977 49.518388, -112.936508 49.518148, -112.936883 49.517944, -112.937475 49.517747, -112.938033 49.517614, -112.938389 49.517566, -112.93928 49.517564, -112.939585 49.51756, -112.93993 49.517603, -112.940302 49.517697, -112.94104 49.517806, -112.941392 49.517823, -112.942175 49.517753, -112.943344 49.517777, -112.944526 49.517785, -112.94537 49.517749, -112.946532 49.517746, -112.948611 49.51772, -112.949311 49.517716, -112.949925 49.517659, -112.950647 49.517529, -112.951271 49.517381, -112.952112 49.517076, -112.952793 49.516731, -112.953659 49.516141, -112.954054 49.515795, -112.954339 49.51549, -112.954813 49.51474, -112.954965 49.514376, -112.954989 49.514104, -112.954911 49.513832, -112.954768 49.513631, -112.954464 49.513457, -112.954076 49.513304, -112.953685 49.513214, -112.952885 49.513127, -112.952098 49.513091, -112.951571 49.513104, -112.950946 49.513252, -112.950035 49.513561, -112.949151 49.513883, -112.948636 49.514031, -112.948134 49.514104, -112.947609 49.514149, -112.946606 49.514148, -112.94544 49.513894, -112.944707 49.513712, -112.944326 49.513572, -112.943966 49.513403, -112.943861 49.513274, -112.943743 49.512954, -112.943801 49.512648, -112.943949 49.512292, -112.944093 49.512011, -112.94423 49.511867, -112.944579 49.511572, -112.945177 49.511044, -112.945614 49.510652, -112.946064 49.510189, -112.946477 49.509669, -112.946733 49.509418, -112.947005 49.509019, -112.947183 49.508707, -112.947539 49.50812, -112.947608 49.507822, -112.947647 49.507507, -112.948056 49.506663, -112.948605 49.505638, -112.948697 49.505425, -112.948689 49.505146, -112.948631 49.504788, -112.94839 49.504416, -112.947854 49.503706, -112.947363 49.503039, -112.947024 49.50277, -112.946571 49.502219, -112.946417 49.501996, -112.946398 49.501614, -112.946456 49.501392, -112.946585 49.501234, -112.946781 49.501093, -112.946955 49.501006, -112.947186 49.500987, -112.947955 49.500975, -112.948125 49.501021, -112.948479 49.501191, -112.948879 49.501465, -112.949542 49.501903, -112.95023 49.502265, -112.951063 49.502649, -112.951869 49.502984, -112.952307 49.503107, -112.952906 49.50323, -112.953299 49.503295, -112.953617 49.503385, -112.953895 49.503427, -112.954149 49.50341, -112.95456 49.503439, -112.955016 49.503514, -112.95599 49.503557, -112.956372 49.503616, -112.956744 49.503766, -112.957678 49.504176, -112.957986 49.504317, -112.958227 49.504344, -112.958622 49.504343, -112.959057 49.504391, -112.959731 49.504545, -112.960017 49.504602, -112.960401 49.50479, -112.960711 49.504945, -112.961334 49.505127, -112.961697 49.505206, -112.962378 49.505207, -112.962878 49.505143, -112.963271 49.505, -112.963659 49.504753, -112.96406 49.504417, -112.964412 49.50406, -112.964748 49.503824, -112.965328 49.503427, -112.96588 49.502769, -112.966323 49.502017, -112.96664 49.501411, -112.966742 49.500982, -112.966777 49.500247, -112.96682 49.500038, -112.96661 49.499324, -112.964791 49.498149, -112.964476 49.497603, -112.965469 49.497281, -112.966921 49.497368, -112.967966 49.497802, -112.96963 49.49804, -112.971229 49.497962, -112.973995 49.497213, -112.975441 49.496608, -112.977347 49.495332, -112.978123 49.493603, -112.978075 49.492941, -112.978129 49.492061, -112.978715 49.491334, -112.981724 49.490122, -112.983453 49.48939, -112.98474 49.489087, -112.986987 49.489238, -112.988426 49.48987, -112.988678 49.491157, -112.989334 49.492596, -112.989663 49.493757, -112.989334 49.494363, -112.988072 49.49454, -112.987416 49.494363, -112.98681 49.494388, -112.98633 49.494691, -112.986179 49.495499, -112.986507 49.496105, -112.987113 49.496559, -112.989827 49.496938, -112.993487 49.496685, -112.994572 49.496306, -112.99533 49.496029, -112.996718 49.495802, -112.998447 49.495272, -113.000265 49.493429, -113.000845 49.492066, -113.000845 49.490551, -113.000441 49.48944, -113.000012 49.488506, -112.999293 49.4879, -112.995456 49.487396, -112.988363 49.487598, -112.986217 49.487017, -112.982796 49.486335, -112.980045 49.484644, -112.978227 49.483079, -112.97795 49.482448, -112.978051 49.481943, -112.978328 49.481438, -112.97954 49.481186, -112.98055 49.481463, -112.981181 49.48212, -112.981963 49.482524, -112.982771 49.4827, -112.983352 49.482574, -112.983958 49.482221, -112.984564 49.482094, -112.984993 49.481741, -112.985775 49.481135, -112.986911 49.480328, -112.988199 49.479949, -112.990647 49.479974, -112.996668 49.479873, -112.998788 49.479898, -113.000202 49.479065, -113.002107 49.478232, -113.004051 49.477273, -113.004581 49.476667, -113.00443 49.476011, -113.003748 49.475531, -113.002688 49.475127, -113.001022 49.4749, -113.000037 49.474623, -112.999785 49.474244, -112.999659 49.473688, -112.999659 49.472704, -112.999987 49.471896, -113.001439 49.469549, -113.00159 49.468993, -113.001338 49.467958, -113.000681 49.466848, -112.999116 49.465737, -112.998208 49.465282, -112.996693 49.464904, -112.994194 49.464752, -112.990269 49.463995, -112.989284 49.463642, -112.989082 49.463213, -112.989082 49.462582, -112.989915 49.461824, -112.991304 49.461143, -112.994661 49.460385, -112.995948 49.460158, -112.999406 49.460032, -113.001565 49.45983, -113.003559 49.460032, -113.005048 49.459754, -113.006109 49.458744, -113.006512 49.457811, -113.007043 49.456876, -113.007686 49.456245, -113.008393 49.455816, -113.009453 49.455387, -113.010337 49.455084, -113.011246 49.454958, -113.012407 49.454882, -113.013164 49.455008, -113.014603 49.455589, -113.015688 49.456498, -113.016862 49.457104, -113.018125 49.457331, -113.018907 49.457407, -113.019412 49.457104, -113.019664 49.456523, -113.019513 49.455993, -113.018705 49.455261, -113.016812 49.454352, -113.016307 49.453974, -113.015827 49.453166, -113.015802 49.452661, -113.016181 49.451777, -113.017468 49.450439, -113.018339 49.449278, -113.018945 49.448496, -113.020131 49.447839, -113.021116 49.447511, -113.022302 49.447486, -113.024789 49.44789, -113.025798 49.448294, -113.026733 49.448445, -113.027919 49.448395, -113.028802 49.448193, -113.02961 49.44789, -113.029989 49.447562, -113.03014 49.446981, -113.029888 49.446451, -113.029231 49.445896, -113.027742 49.445113, -113.026076 49.44423, -113.024208 49.442513, -113.023274 49.44163, -113.022239 49.440973, -113.019816 49.440468, -113.01796 49.440241, -113.016092 49.439711, -113.015537 49.438777, -113.015234 49.438222, -113.015587 49.436833, -113.016092 49.435899, -113.017557 49.434587, -113.019096 49.433981, -113.021065 49.433653, -113.023463 49.433653, -113.024915 49.433476, -113.027086 49.432946, -113.029433 49.432239, -113.030191 49.431835, -113.030418 49.431482, -113.030266 49.430901, -113.029736 49.430321, -113.029004 49.429917, -113.026152 49.429387, -113.024486 49.428983, -113.022466 49.428503, -113.021305 49.428099, -113.020775 49.427973, -113.01974 49.427973, -113.018301 49.427746, -113.016888 49.427392, -113.015297 49.426988, -113.014716 49.426559, -113.014527 49.426004, -113.014956 49.42555, -113.016118 49.425322, -113.017253 49.425449, -113.01796 49.425322, -113.018617 49.425146, -113.019021 49.424843, -113.019147 49.424287, -113.018793 49.422722, -113.018718 49.421839, -113.019021 49.421182, -113.019525 49.420577, -113.020283 49.420097, -113.021393 49.419769, -113.02335 49.420021, -113.024183 49.420299, -113.024839 49.420854, -113.025344 49.421208, -113.027338 49.422243, -113.027894 49.42247, -113.029661 49.422394, -113.031201 49.422116, -113.032034 49.421965, -113.034444 49.421713, -113.036287 49.421435, -113.037145 49.421107, -113.037474 49.420905, -113.037625 49.420652, -113.037625 49.420072, -113.037347 49.419693, -113.036968 49.419264, -113.036464 49.41886, -113.036211 49.41838, -113.03606 49.417901, -113.036211 49.417522, -113.036691 49.417219, -113.037322 49.416916, -113.038155 49.416235, -113.038307 49.415806, -113.038357 49.415326, -113.038105 49.415099, -113.037701 49.414644, -113.037007 49.414417, -113.034381 49.414342, -113.030544 49.414442, -113.029862 49.414392, -113.029055 49.414114, -113.0286 49.413534, -113.028297 49.413105, -113.028626 49.412196, -113.02961 49.411338, -113.031453 49.410252, -113.032614 49.409899, -113.033674 49.409217, -113.034002 49.408788, -113.034002 49.40846, -113.033498 49.408233, -113.032665 49.408359, -113.031099 49.409091, -113.030216 49.409419, -113.029383 49.409571, -113.028575 49.40952, -113.027666 49.408813, -113.027187 49.408006, -113.026922 49.407425, -113.027553 49.406137, -113.027755 49.405153, -113.027704 49.404345, -113.027275 49.403537, -113.026215 49.403033, -113.025306 49.402906, -113.024625 49.402932, -113.023968 49.403235, -113.023741 49.403967, -113.024296 49.406516, -113.024044 49.407071, -113.023691 49.407299, -113.023085 49.407576, -113.02263 49.407576, -113.022201 49.40745, -113.020687 49.406693, -113.01945 49.405986, -113.018642 49.405708, -113.017253 49.405708, -113.013429 49.405633, -113.011965 49.405456, -113.010021 49.405052, -113.009592 49.404901, -113.009188 49.404269, -113.009062 49.403638, -113.009441 49.403007, -113.009895 49.402603, -113.011056 49.402452, -113.012419 49.402831, -113.013656 49.40331, -113.01459 49.403588, -113.015701 49.403638, -113.01714 49.403134, -113.017948 49.402603, -113.018453 49.401846, -113.018503 49.401341, -113.018327 49.400937, -113.017721 49.400559, -113.016938 49.400432, -113.016181 49.400281, -113.014818 49.400432, -113.013379 49.400836, -113.010577 49.401064, -113.009819 49.400912, -113.008936 49.400761, -113.008532 49.400559, -113.00828 49.40018, -113.008355 49.399498, -113.00934 49.398766, -113.010211 49.398337, -113.01165 49.398135, -113.012785 49.397782, -113.01382 49.397227, -113.0143 49.396772, -113.014426 49.396116, -113.0143 49.395586, -113.013745 49.39503, -113.012685 49.394601, -113.011574 49.39445, -113.011271 49.394374, -113.010715 49.394021, -113.010387 49.393667, -113.010463 49.393061, -113.011069 49.392733, -113.012079 49.392329, -113.013265 49.392001, -113.015575 49.39132, -113.015979 49.391017, -113.016181 49.390689, -113.016282 49.390259, -113.016282 49.389805, -113.015903 49.389351, -113.014287 49.388215, -113.013606 49.387558, -113.013303 49.38718, -113.012924 49.386145, -113.012899 49.384883, -113.013101 49.384554, -113.013417 49.3841, -113.014098 49.383848, -113.015234 49.383545, -113.015789 49.383217, -113.016042 49.382737, -113.01589 49.382333, -113.015461 49.381929, -113.015083 49.3815, -113.014527 49.380818, -113.014325 49.380541, -113.0143 49.380389, -113.01425 49.379985, -113.014376 49.379531, -113.014755 49.379329, -113.015209 49.379102, -113.016067 49.379077, -113.016849 49.379077, -113.017784 49.379102, -113.018541 49.379279, -113.019298 49.379405, -113.020093 49.37938, -113.020649 49.379203, -113.021229 49.378925, -113.021709 49.378547, -113.021734 49.378218, -113.021456 49.377764, -113.021103 49.377562, -113.020598 49.377461, -113.019664 49.377436, -113.018705 49.377613, -113.017923 49.377713, -113.017165 49.377587, -113.016635 49.377486, -113.015903 49.377259, -113.015424 49.377057, -113.014944 49.376527, -113.014666 49.376123, -113.014565 49.375669, -113.01459 49.37529, -113.01512 49.375063, -113.015903 49.374912, -113.017468 49.375113, -113.018453 49.375265, -113.019185 49.375341, -113.019563 49.375341, -113.020169 49.375113, -113.02075 49.374861, -113.021608 49.374129, -113.022264 49.373574, -113.022769 49.37317, -113.0234 49.372842, -113.024157 49.372564, -113.024991 49.372412, -113.026404 49.372337, -113.027944 49.372614, -113.02985 49.373119, -113.030759 49.373094, -113.031264 49.372741, -113.031138 49.372185, -113.030001 49.370822, -113.027654 49.369509, -113.026164 49.368853, -113.024423 49.3685, -113.023287 49.368272, -113.022277 49.367263, -113.022024 49.366657, -113.021999 49.366102, -113.02234 49.365471, -113.022971 49.364991, -113.024132 49.364562, -113.0259 49.364158, -113.027768 49.364208, -113.030027 49.36441, -113.031667 49.364284, -113.0351 49.364133, -113.037436 49.364284, -113.039329 49.364764, -113.040338 49.365319, -113.042232 49.366682, -113.042913 49.367515, -113.043443 49.369383, -113.043948 49.371731, -113.044466 49.372942, -113.045476 49.373877, -113.046561 49.373977, -113.047344 49.373599, -113.048025 49.372539, -113.04853 49.371125, -113.048833 49.370469, -113.049363 49.369913, -113.050651 49.369383, -113.053036 49.369156, -113.054424 49.369257, -113.055459 49.369863, -113.056217 49.371201, -113.056747 49.374028, -113.057125 49.374962, -113.057731 49.375719, -113.058791 49.376401, -113.060192 49.377183, -113.061227 49.377461, -113.062439 49.377512, -113.063146 49.377486, -113.064105 49.377082, -113.064711 49.376855, -113.065241 49.376325, -113.065569 49.37582, -113.065519 49.37524, -113.065393 49.374306, -113.064913 49.373372, -113.064383 49.372412, -113.063449 49.371377, -113.062919 49.370317, -113.062515 49.369383, -113.062553 49.366733, -113.062654 49.366102, -113.062477 49.365395, -113.062098 49.364537, -113.061795 49.364082, -113.06119 49.363678, -113.06023 49.363375, -113.059776 49.363148, -113.059322 49.362871, -113.05869 49.362517, -113.058627 49.362037, -113.059006 49.361305, -113.059486 49.361154, -113.060142 49.361028, -113.060647 49.361103, -113.061909 49.361533, -113.062666 49.36176, -113.063651 49.361962, -113.064837 49.362492, -113.06615 49.363754, -113.066857 49.365521, -113.066806 49.366707, -113.067841 49.367667, -113.069772 49.369358, -113.070555 49.369913, -113.073104 49.370847, -113.074467 49.371201, -113.075805 49.371201, -113.076967 49.371049, -113.077648 49.370948, -113.077976 49.370746, -113.07785 49.369737, -113.077421 49.369358, -113.076411 49.368954, -113.075957 49.368424, -113.075553 49.36797, -113.075427 49.367591, -113.075553 49.366808, -113.07583 49.366329, -113.078898 49.363931, -113.080866 49.362467, -113.08228 49.361684, -113.083467 49.361002, -113.084615 49.360548, -113.085827 49.360523, -113.086862 49.360624, -113.087872 49.361028, -113.088604 49.361608, -113.089639 49.363072, -113.090169 49.363779, -113.091002 49.364436, -113.093728 49.365395, -113.095659 49.365874, -113.097325 49.366051, -113.099976 49.365925, -113.104759 49.365571, -113.1064 49.366102, -113.107612 49.366531, -113.10842 49.366935, -113.108571 49.367465, -113.108117 49.367894, -113.107183 49.368298, -113.105694 49.368828, -113.105037 49.369358, -113.105088 49.370191, -113.106047 49.371478, -113.107864 49.372286, -113.110061 49.372463, -113.112547 49.371857, -113.11386 49.370847, -113.114996 49.369888, -113.115538 49.369434, -113.120649 49.369058, -113.120688 49.369055, -113.120965 49.368651, -113.125749 49.366076, -113.130824 49.363332, -113.142657 49.35834, -113.149228 49.347494, -113.158648 49.341401, -113.166472 49.336887, -113.205503 49.32389, -113.220661 49.318941, -113.23025 49.308733, -113.233034 49.303165, -113.243242 49.301309, -113.252213 49.302855, -113.254688 49.299143, -113.25345 49.292647, -113.254379 49.288316, -113.265205 49.285532, -113.271701 49.284604, -113.263659 49.270994, -113.26304 49.268519, -113.269536 49.266044, -113.26982 49.261494, -113.269845 49.261095, -113.266752 49.255527, -113.263651 49.253731, -113.260874 49.252124, -113.257169 49.251332, -113.256495 49.250917, -113.256027 49.249827, -113.256131 49.248997, -113.256702 49.248167, -113.257325 49.247596, -113.25909 49.247129, -113.259712 49.247129, -113.261217 49.246298, -113.262619 49.245624, -113.263293 49.245157, -113.263501 49.244378, -113.263137 49.243651, -113.262411 49.242665, -113.261892 49.241576, -113.261373 49.240693, -113.261165 49.240226, -113.261269 49.239084, -113.26184 49.23815, -113.263034 49.237372, -113.265213 49.236749, -113.266718 49.236697, -113.267704 49.236697, -113.268846 49.236282, -113.269729 49.235452, -113.269988 49.234466, -113.269729 49.233843, -113.269002 49.233428, -113.268535 49.233116, -113.26824 49.232526, -113.267964 49.231974, -113.267601 49.231352, -113.267186 49.230677, -113.267134 49.230366, -113.267445 49.229795, -113.267912 49.229379, -113.268172 49.228653, -113.268275 49.227771, -113.267445 49.226837, -113.266407 49.226006, -113.265888 49.225487, -113.265463 49.225063, -113.265421 49.22502, -113.265888 49.224086, -113.265654 49.223152, -113.264202 49.221387, -113.263008 49.219882, -113.262437 49.218688, -113.261918 49.215938, -113.26171 49.214744, -113.261191 49.213654, -113.260309 49.213084, -113.258233 49.213032, -113.256676 49.212616, -113.256001 49.212201, -113.252732 49.21163, -113.250397 49.21106, -113.249462 49.210904, -113.248425 49.210229, -113.247412 49.208361, -113.246478 49.20753, -113.245025 49.206856, -113.243053 49.206804, -113.241185 49.207323, -113.237292 49.208932, -113.234905 49.209658, -113.231947 49.210385, -113.229248 49.210489, -113.22821 49.210073, -113.227899 49.209554, -113.227743 49.209035, -113.228573 49.208465, -113.229404 49.208153, -113.230442 49.207738, -113.230701 49.20753, -113.231168 49.206804, -113.231532 49.205818, -113.231635 49.205143, -113.231895 49.204261, -113.231843 49.203534, -113.231837 49.203214, -113.231655 49.202172, -113.274943 49.202245, -113.284045 49.202249, -113.285689 49.202118, -113.286159 49.202096, -113.286513 49.20208, -113.286419 49.200546, -113.286423 49.198735, -113.28643 49.195878, -113.286438 49.192357, -113.286446 49.188588, -113.28645 49.185022, -113.286445 49.18166, -113.297215 49.18166, -113.297935 49.18166, -113.301682 49.18166, -113.309435 49.181574, -113.309472 49.180857, -113.312199 49.180058, -113.320454 49.180617, -113.320388 49.181616, -113.331021 49.181497, -113.330965 49.184489, -113.330891 49.186674, -113.330867 49.191968, -113.330849 49.195782, -113.339505 49.195766, -113.339715 49.202366, -113.342283 49.202363, -113.353287 49.202366, -113.364692 49.202367, -113.372648 49.202367, -113.374543 49.202196, -113.375913 49.201856, -113.499486 49.202428, -113.633123 49.203726, -113.647264 49.203864, -113.646321 49.20471, -113.645532 49.204999, -113.644387 49.20623, -113.643752 49.206615, -113.643233 49.206808, -113.642867 49.207039, -113.641828 49.208039, -113.641 49.209367, -113.640423 49.210522, -113.639509 49.212003, -113.63974 49.212735, -113.640394 49.213485, -113.642338 49.214467, -113.64253 49.214717, -113.642626 49.215044, -113.641934 49.215332, -113.641183 49.215987, -113.640202 49.216218, -113.638662 49.21616, -113.637315 49.215717, -113.636642 49.21514, -113.636411 49.214428, -113.635545 49.213774, -113.632678 49.212523, -113.631398 49.2121, -113.630147 49.212157, -113.629704 49.212523, -113.629127 49.213851, -113.628916 49.214678, -113.629127 49.215179, -113.629993 49.215717, -113.630705 49.216141, -113.630705 49.216583, -113.630301 49.217007, -113.629551 49.217141, -113.629029 49.217407, -113.628492 49.21768, -113.627039 49.218565, -113.627058 49.218931, -113.627674 49.220278, -113.627886 49.220721, -113.62779 49.221067, -113.627424 49.221452, -113.627078 49.221663, -113.626885 49.221702, -113.625654 49.221586, -113.624307 49.221586, -113.623633 49.221817, -113.623306 49.222221, -113.623229 49.222664, -113.623778 49.223492, -113.624528 49.223799, -113.624951 49.224877, -113.62499 49.225974, -113.625259 49.226955, -113.624586 49.228168, -113.623932 49.228572, -113.621844 49.22913, -113.617938 49.23015, -113.616841 49.230746, -113.616532 49.232074, -113.616764 49.232459, -113.617706 49.232882, -113.618688 49.233036, -113.619689 49.232882, -113.620131 49.233017, -113.620304 49.23346, -113.620285 49.233806, -113.619881 49.23396, -113.618534 49.234152, -113.617803 49.234248, -113.617052 49.234095, -113.616571 49.233671, -113.616051 49.233402, -113.615186 49.233498, -113.614291 49.234152, -113.613309 49.234287, -113.611962 49.234653, -113.611597 49.234883, -113.611135 49.235538, -113.611019 49.236077, -113.611212 49.236423, -113.611828 49.236596, -113.612212 49.236461, -113.613136 49.236346, -113.613944 49.2365, -113.614291 49.236712, -113.614349 49.237135, -113.614098 49.238617, -113.61379 49.238944, -113.613213 49.239155, -113.611924 49.239117, -113.610654 49.239002, -113.607864 49.23854, -113.60618 49.23829, -113.605122 49.23854, -113.60439 49.238944, -113.604063 49.23981, -113.60362 49.240233, -113.603832 49.240753, -113.604198 49.241214, -113.604275 49.241542, -113.60414 49.242003, -113.603793 49.24235, -113.603043 49.242388, -113.602466 49.242369, -113.601908 49.242138, -113.601446 49.241773, -113.600715 49.24158, -113.59983 49.241542, -113.599031 49.241676, -113.598454 49.241907, -113.597819 49.242465, -113.597338 49.242581, -113.596395 49.242581, -113.59576 49.242042, -113.595163 49.241349, -113.59474 49.24108, -113.593932 49.241176, -113.593585 49.241291, -113.593181 49.241753, -113.59245 49.242619, -113.592219 49.242677, -113.591853 49.242523, -113.591546 49.242196, -113.591507 49.241792, -113.591469 49.24133, -113.591132 49.241041, -113.59067 49.240945, -113.59017 49.240964, -113.589554 49.241426, -113.588765 49.242234, -113.587629 49.242715, -113.586552 49.242985, -113.585301 49.244467, -113.584454 49.244813, -113.583896 49.245102, -113.583627 49.245814, -113.583078 49.24818, -113.583271 49.249162, -113.584329 49.24997, -113.585061 49.250432, -113.586456 49.251279, -113.588707 49.252241, -113.589708 49.252703, -113.590054 49.253222, -113.590246 49.254127, -113.590189 49.254781, -113.589765 49.255377, -113.588428 49.257956, -113.588063 49.258225, -113.587119 49.258437, -113.583617 49.258687, -113.58202 49.259034, -113.580692 49.259476, -113.57649 49.260705, -113.576218 49.260785, -113.57441 49.261208, -113.572851 49.261324, -113.571263 49.261362, -113.570647 49.261458, -113.570451 49.261625, -113.568877 49.262959, -113.568146 49.264249, -113.567203 49.266384, -113.566982 49.26725, -113.566635 49.267443, -113.565827 49.267308, -113.565154 49.266577, -113.564576 49.265769, -113.563903 49.265211, -113.562517 49.26523, -113.561517 49.265672, -113.558976 49.268578, -113.558553 49.269406, -113.557197 49.270676, -113.55635 49.271484, -113.554522 49.27464, -113.553636 49.275294, -113.552607 49.278007, -113.550817 49.279585, -113.549557 49.28074, -113.549364 49.281394, -113.54998 49.282183, -113.550153 49.282972, -113.550577 49.283569, -113.551347 49.284281, -113.551635 49.284896, -113.551087 49.286012, -113.550028 49.286513, -113.549085 49.286628, -113.547931 49.287302, -113.547065 49.288379, -113.547103 49.289245, -113.54719 49.290207, -113.54667 49.291458, -113.546555 49.291862, -113.546978 49.292748, -113.547786 49.293479, -113.548479 49.293844, -113.54923 49.293729, -113.550519 49.293787, -113.552097 49.29471, -113.553742 49.294884, -113.554551 49.294845, -113.555166 49.294537, -113.556109 49.294056, -113.55686 49.293979, -113.557649 49.294364, -113.558264 49.294749, -113.559053 49.295653, -113.560016 49.296577, -113.560612 49.29777, -113.560612 49.298501, -113.561247 49.299021, -113.561247 49.299656, -113.559486 49.301272, -113.558255 49.301561, -113.557408 49.301927, -113.556177 49.302889, -113.555849 49.303389, -113.555859 49.30437, -113.556533 49.305256, -113.557244 49.305429, -113.558861 49.30514, -113.559939 49.304832, -113.560439 49.304775, -113.561093 49.304871, -113.561786 49.305833, -113.562594 49.306295, -113.562864 49.306737, -113.562806 49.30718, -113.562864 49.307719, -113.563652 49.307911, -113.564576 49.307719, -113.565086 49.307584, -113.565163 49.307064, -113.565317 49.306718, -113.56626 49.306776, -113.567684 49.306949, -113.568261 49.307064, -113.568704 49.307507, -113.569435 49.310855, -113.568396 49.311933, -113.567982 49.312722, -113.568213 49.313184, -113.569483 49.31353, -113.570426 49.313896, -113.570695 49.314146, -113.570811 49.314415, -113.57083 49.315551, -113.570811 49.315878, -113.569445 49.316455, -113.56899 49.317297, -113.569303 49.317922, -113.569736 49.320208, -113.5701 49.324519, -113.567694 49.325692, -113.567534 49.32575, -113.567426 49.32697, -113.566705 49.328489, -113.565573 49.329132, -113.565367 49.32939, -113.565547 49.329878, -113.566087 49.330316, -113.565959 49.330882, -113.565779 49.331242, -113.56619 49.331448, -113.566808 49.331783, -113.567503 49.333713, -113.567554 49.334408, -113.566319 49.334459, -113.565393 49.334073, -113.5639 49.334047, -113.561842 49.334768, -113.55811 49.335952, -113.557312 49.336029, -113.556618 49.336106, -113.556412 49.336595, -113.55609 49.337393, -113.555601 49.338371, -113.55609 49.339297, -113.556965 49.339683, -113.55748 49.339889, -113.557685 49.340095, -113.557145 49.341381, -113.556759 49.342308, -113.556013 49.342514, -113.554083 49.342385, -113.552951 49.342025, -113.551149 49.341536, -113.549348 49.341278, -113.54783 49.340995, -113.545694 49.341587, -113.544111 49.341304, -113.542644 49.341407, -113.539839 49.34169, -113.538578 49.342411, -113.538115 49.342822, -113.538167 49.343389, -113.538475 49.343929, -113.539042 49.34416, -113.539994 49.344238, -113.540894 49.344521, -113.541332 49.344907, -113.541358 49.345293, -113.541203 49.345524, -113.537472 49.346039, -113.535851 49.346091, -113.53257 49.346477, -113.531026 49.346888, -113.528813 49.346914, -113.527577 49.346657, -113.526393 49.346502, -113.525596 49.34658, -113.525158 49.347017, -113.524837 49.347043, -113.524039 49.34658, -113.523241 49.346039, -113.52198 49.345808, -113.5209 49.345833, -113.519407 49.346116, -113.518429 49.346888, -113.517914 49.347171, -113.517528 49.3473, -113.516473 49.3473, -113.516061 49.3473, -113.515676 49.347583, -113.515109 49.348123, -113.514569 49.348175, -113.513578 49.348021, -113.510619 49.347737, -113.508638 49.347146, -113.507402 49.347146, -113.506502 49.346477, -113.505524 49.345885, -113.504726 49.346039, -113.503542 49.347171, -113.503362 49.347815, -113.503851 49.348355, -113.504185 49.34869, -113.504089 49.349212, -113.503877 49.350362, -113.503529 49.350826, -113.501316 49.351932, -113.499875 49.352138, -113.497611 49.351726, -113.496581 49.351855, -113.495577 49.352189, -113.494677 49.352112, -113.493545 49.3517, -113.492296 49.351186, -113.49155 49.351237, -113.490881 49.351495, -113.489904 49.352035, -113.489209 49.352704, -113.488282 49.353167, -113.48733 49.353476, -113.486687 49.353425, -113.486224 49.353116, -113.486146 49.352704, -113.486146 49.352267, -113.485915 49.351778, -113.485554 49.351469, -113.485323 49.351006, -113.485143 49.350414, -113.484783 49.350054, -113.484371 49.349925, -113.482981 49.350182, -113.481218 49.351031, -113.479992 49.352146, -113.479803 49.352318, -113.478902 49.352704, -113.476869 49.352704, -113.476073 49.352621, -113.475634 49.352575, -113.474759 49.352524, -113.472611 49.351932, -113.471761 49.351984, -113.469934 49.352009, -113.468364 49.351829, -113.467567 49.352601, -113.467644 49.353193, -113.468545 49.353759, -113.468725 49.354016, -113.46857 49.3543, -113.468081 49.354428, -113.467387 49.354505, -113.466743 49.354351, -113.466151 49.353682, -113.465663 49.353347, -113.463913 49.353013, -113.463475 49.352833, -113.46305 49.35255, -113.462536 49.352498, -113.462176 49.352575, -113.46197 49.352858, -113.461995 49.353528, -113.462433 49.354222, -113.463025 49.354557, -113.463591 49.354891, -113.463823 49.35538, -113.463771 49.355741, -113.462947 49.356307, -113.46215 49.356538, -113.460915 49.35713, -113.460554 49.357774, -113.46076 49.35852, -113.461043 49.358906, -113.461429 49.359343, -113.461352 49.359832, -113.460837 49.360012, -113.460117 49.360193, -113.459589 49.360321, -113.45856 49.361325, -113.457942 49.361968, -113.457325 49.362045, -113.456578 49.361917, -113.456501 49.361376, -113.456527 49.360759, -113.455884 49.360321, -113.454957 49.360244, -113.454159 49.36063, -113.453413 49.361273, -113.45295 49.361839, -113.452744 49.362689, -113.453362 49.363461, -113.453671 49.363718, -113.454571 49.36395, -113.456244 49.364258, -113.45663 49.364644, -113.456939 49.365108, -113.456347 49.365725, -113.455343 49.366214, -113.454262 49.366188, -113.453568 49.366369, -113.452525 49.368067, -113.451779 49.368479, -113.450261 49.368633, -113.449617 49.36835, -113.449051 49.367887, -113.448511 49.367578, -113.447456 49.367424, -113.446787 49.367398, -113.446401 49.367218, -113.446143 49.366703, -113.445629 49.366574, -113.445089 49.366497, -113.444574 49.366652, -113.444136 49.367527, -113.443725 49.368093, -113.443416 49.368299, -113.442386 49.368685, -113.442244 49.368848, -113.441568 49.369384, -113.441453 49.369558, -113.441466 49.369818, -113.441703 49.370443, -113.441649 49.371011, -113.441591 49.371228, -113.441232 49.371785, -113.440984 49.371824, -113.440649 49.371567, -113.440032 49.370846, -113.439569 49.370743, -113.438256 49.370949, -113.436995 49.371284, -113.436661 49.371747, -113.436661 49.372262, -113.437149 49.373162, -113.43805 49.37396, -113.438462 49.374295, -113.439234 49.375169, -113.439903 49.375761, -113.440161 49.376199, -113.440109 49.376919, -113.439569 49.37782, -113.438848 49.378309, -113.438231 49.378489, -113.437175 49.378489, -113.436584 49.378155, -113.436352 49.377794, -113.4363 49.377357, -113.436017 49.377048, -113.435348 49.376688, -113.434345 49.376405, -113.433161 49.376302, -113.43226 49.37643, -113.430974 49.377254, -113.430562 49.377588, -113.429674 49.377872, -113.42777 49.377769, -113.426946 49.377897, -113.426149 49.378335, -113.425428 49.378721, -113.424553 49.379029, -113.424116 49.379493, -113.423807 49.380059, -113.423729 49.380728, -113.423627 49.381165, -113.423318 49.381268, -113.422906 49.381062, -113.42234 49.380779, -113.421799 49.380574, -113.421362 49.380522, -113.421182 49.380831, -113.421259 49.381191, -113.421516 49.381732, -113.421542 49.382246, -113.421182 49.383301, -113.421311 49.383687, -113.421439 49.383996, -113.422134 49.384228, -113.422546 49.384305, -113.422881 49.384459, -113.423241 49.384794, -113.423446 49.384845, -113.42463 49.384948, -113.425248 49.385103, -113.425647 49.385592, -113.42575 49.386106, -113.425389 49.386904, -113.424283 49.387547, -113.423562 49.387805, -113.422996 49.387908, -113.422095 49.387727, -113.421632 49.387444, -113.421169 49.387033, -113.420809 49.386904, -113.420243 49.386904, -113.419625 49.386775, -113.41875 49.386544, -113.418184 49.386364, -113.417077 49.3859, -113.416691 49.385797, -113.4161 49.385823, -113.415611 49.386029, -113.415302 49.386235, -113.414916 49.386672, -113.414311 49.387393, -113.414183 49.388062, -113.414363 49.388371, -113.414723 49.388499, -113.415289 49.388551, -113.416164 49.388499, -113.416756 49.388577, -113.417296 49.388963, -113.417631 49.3894, -113.417605 49.389992, -113.417167 49.39097, -113.416859 49.391279, -113.415907 49.391665, -113.414851 49.391973, -113.414594 49.392154, -113.414363 49.392617, -113.414543 49.393054, -113.415031 49.393466, -113.415521 49.393878, -113.415881 49.394367, -113.415868 49.394933, -113.415636 49.395293, -113.415328 49.395525, -113.413861 49.395628, -113.413166 49.395576, -113.412497 49.395602, -113.411776 49.395525, -113.411107 49.395293, -113.410696 49.394984, -113.41049 49.394676, -113.410567 49.393878, -113.410464 49.393543, -113.409975 49.393337, -113.409332 49.393209, -113.40856 49.393131, -113.40789 49.393286, -113.407685 49.393466, -113.407505 49.393749, -113.407505 49.394006, -113.407659 49.394495, -113.407505 49.394753, -113.407067 49.39483, -113.406707 49.394727, -113.406295 49.394701, -113.405935 49.39483, -113.405446 49.395216, -113.404905 49.39537, -113.404648 49.395319, -113.404211 49.39519, -113.403928 49.395293, -113.403464 49.396091, -113.402988 49.396631, -113.401213 49.397326, -113.400672 49.39748, -113.399154 49.397506, -113.398202 49.39748, -113.398125 49.397223, -113.398485 49.396889, -113.398485 49.396605, -113.398099 49.396168, -113.39779 49.395962, -113.397558 49.396117, -113.397198 49.39676, -113.396658 49.397506, -113.396503 49.398021, -113.396581 49.398536, -113.397095 49.399024, -113.398073 49.399205, -113.398742 49.399333, -113.39918 49.399333, -113.399385 49.400002, -113.399051 49.4008, -113.398948 49.401855, -113.399 49.402447, -113.398253 49.40309, -113.397764 49.404017, -113.398343 49.405406, -113.398395 49.405664, -113.397932 49.40587, -113.397366 49.405844, -113.397083 49.405741, -113.396902 49.405406, -113.396568 49.405072, -113.396001 49.405303, -113.395358 49.405767, -113.394226 49.406719, -113.393737 49.407131, -113.393145 49.407079, -113.392708 49.406719, -113.392347 49.406204, -113.392065 49.405818, -113.391756 49.405535, -113.390469 49.405484, -113.388899 49.40587, -113.388179 49.406178, -113.387458 49.406847, -113.387072 49.407542, -113.386815 49.408726, -113.386506 49.408983, -113.385824 49.409369, -113.384846 49.409575, -113.383328 49.409575, -113.381758 49.410193, -113.380754 49.410579, -113.379674 49.410759, -113.376612 49.410862, -113.375917 49.410965, -113.375415 49.411351, -113.374926 49.411814, -113.374488 49.412071, -113.371375 49.412071, -113.370577 49.412406, -113.369496 49.413178, -113.36929 49.413718, -113.369265 49.414233, -113.369651 49.414876, -113.369754 49.415803, -113.369548 49.416292, -113.369059 49.416446, -113.368518 49.416317, -113.367875 49.416034, -113.367283 49.416009, -113.366897 49.41624, -113.36664 49.417887, -113.366382 49.418119, -113.365971 49.418273, -113.365327 49.418402, -113.362715 49.418762, -113.361326 49.419251, -113.360863 49.419791, -113.360914 49.420152, -113.3613 49.420409, -113.361686 49.420641, -113.361789 49.420821, -113.361583 49.42113, -113.360142 49.421464, -113.358778 49.421722, -113.357929 49.421799, -113.356977 49.421773, -113.356128 49.421541, -113.355381 49.42131, -113.35385 49.421104, -113.352975 49.421207, -113.352358 49.42149, -113.35192 49.421902, -113.351843 49.422416, -113.351869 49.422777, -113.352538 49.423008, -113.35331 49.423188, -113.353567 49.423343, -113.353644 49.423574, -113.35349 49.423857, -113.353078 49.424115, -113.352564 49.424243, -113.35138 49.424166, -113.350093 49.424449, -113.349244 49.424681, -113.347751 49.425556, -113.346413 49.426199, -113.345487 49.426251, -113.343673 49.425993, -113.340559 49.424655, -113.338912 49.423909, -113.337779 49.423214, -113.336261 49.423085, -113.334872 49.423343, -113.334254 49.423857, -113.334074 49.424372, -113.334125 49.425041, -113.333212 49.425401, -113.332234 49.425993, -113.331874 49.426637, -113.331591 49.428026, -113.332157 49.428567, -113.332929 49.429313, -113.333366 49.430033, -113.333443 49.430445, -113.333032 49.430703, -113.332311 49.430805, -113.331797 49.431089, -113.331513 49.431294, -113.331591 49.431655, -113.332054 49.431912, -113.332491 49.432066, -113.332839 49.433688, -113.332324 49.434202, -113.331269 49.434614, -113.33024 49.435309, -113.329468 49.435566, -113.329493 49.435823, -113.329854 49.436107, -113.329873 49.436172, -113.329931 49.436364, -113.329725 49.43675, -113.329725 49.437059, -113.329879 49.437496, -113.329313 49.438474, -113.329287 49.438912, -113.329957 49.439838, -113.330445 49.440095, -113.330934 49.44025, -113.331732 49.44025, -113.332478 49.440018, -113.333611 49.439812, -113.334074 49.439967, -113.334202 49.440275, -113.334189 49.440558, -113.333135 49.441433, -113.33226 49.441897, -113.33123 49.44236, -113.330072 49.44272, -113.327936 49.442797, -113.325363 49.443055, -113.324694 49.443569, -113.324643 49.444058, -113.325209 49.444521, -113.326161 49.444804, -113.326856 49.445216, -113.327911 49.445551, -113.328811 49.445731, -113.329995 49.445988, -113.330458 49.446168, -113.330973 49.446503, -113.331385 49.446915, -113.331629 49.448381, -113.331423 49.449334, -113.331423 49.449977, -113.33199 49.450594, -113.333199 49.451521, -113.333919 49.452164, -113.334099 49.453065, -113.333546 49.4543, -113.333212 49.454995, -113.333263 49.455458, -113.333624 49.455921, -113.33437 49.456204, -113.334884 49.456204, -113.335116 49.456359, -113.335065 49.456616, -113.333907 49.457285, -113.33298 49.457594, -113.332285 49.457594, -113.331591 49.457337, -113.330484 49.456745, -113.329866 49.456385, -113.329403 49.45605, -113.328683 49.455921, -113.328194 49.456024, -113.327756 49.456951, -113.327525 49.45762, -113.328065 49.458315, -113.328824 49.458906, -113.328953 49.459164, -113.328953 49.459498, -113.328129 49.459653, -113.327434 49.459627, -113.326894 49.45937, -113.326251 49.458392, -113.325736 49.458032, -113.325119 49.4578, -113.324218 49.458083, -113.323883 49.458598, -113.323677 49.459601, -113.324063 49.46027, -113.324398 49.460502, -113.325427 49.460734, -113.326225 49.460888, -113.326714 49.461248, -113.326869 49.461583, -113.326637 49.462869, -113.325736 49.463307, -113.325144 49.463436, -113.324166 49.463178, -113.323626 49.462869, -113.323446 49.462226, -113.323214 49.461814, -113.322777 49.461428, -113.322005 49.461351, -113.320692 49.461351, -113.318994 49.461634, -113.318029 49.461969, -113.317308 49.462509, -113.316356 49.462741, -113.315713 49.462766, -113.314092 49.462638, -113.313011 49.462947, -113.312136 49.46359, -113.31193 49.464027, -113.312162 49.464568, -113.312651 49.464902, -113.313294 49.46534, -113.313397 49.465649, -113.313577 49.466652, -113.313963 49.466961, -113.314066 49.46745, -113.313757 49.467939, -113.313217 49.468222, -113.312445 49.468376, -113.311544 49.468171, -113.310875 49.468042, -113.310386 49.468042, -113.309923 49.468299, -113.309871 49.468634, -113.310129 49.469045, -113.310592 49.469483, -113.311698 49.469663, -113.311969 49.46974, -113.312355 49.469843, -113.312612 49.470178, -113.31287 49.471104, -113.312895 49.471542, -113.312844 49.472674, -113.312149 49.473317, -113.3113 49.473858, -113.310013 49.474166, -113.30973 49.474398, -113.309653 49.474939, -113.309473 49.476122, -113.307864 49.477486, -113.307066 49.477872, -113.306526 49.478027, -113.30578 49.478027, -113.304725 49.477924, -113.303901 49.478001, -113.302435 49.478799, -113.30188 49.479076, -113.301817 49.479107, -113.300994 49.47921, -113.299218 49.479287, -113.298446 49.47939, -113.297558 49.479725, -113.297018 49.480368, -113.296451 49.480754, -113.295937 49.480986, -113.295577 49.480986, -113.295499 49.48132, -113.295577 49.481629, -113.29622 49.481912, -113.296709 49.482144, -113.297326 49.482221, -113.297892 49.482221, -113.298459 49.482067, -113.299025 49.481912, -113.299591 49.481835, -113.299977 49.481835, -113.30044 49.482041, -113.300723 49.482247, -113.300929 49.482504, -113.300903 49.483173, -113.3008 49.483714, -113.300903 49.483997, -113.301289 49.48428, -113.301727 49.484537, -113.302653 49.484563, -113.30394 49.484434, -113.305201 49.484254, -113.305741 49.484203, -113.30641 49.484203, -113.306796 49.484408, -113.307208 49.484949, -113.307182 49.485283, -113.307002 49.485592, -113.30623 49.485747, -113.304583 49.485978, -113.303631 49.485978, -113.302473 49.485798, -113.301418 49.485489, -113.300311 49.485026, -113.299591 49.484872, -113.298845 49.484794, -113.297712 49.485052, -113.296683 49.485952, -113.2964 49.486107, -113.295988 49.486158, -113.295654 49.486107, -113.295113 49.485772, -113.294444 49.485361, -113.294084 49.485232, -113.293106 49.485206, -113.292437 49.485463, -113.291845 49.486133, -113.291641 49.486566, -113.291639 49.48657, -113.291562 49.48711, -113.292424 49.487728, -113.293042 49.488063, -113.294406 49.488166, -113.295383 49.488217, -113.296155 49.488371, -113.296696 49.488783, -113.297005 49.489375, -113.29667 49.490095, -113.295615 49.490353, -113.29438 49.490353, -113.292913 49.49043, -113.291781 49.490533, -113.291009 49.490893, -113.290263 49.491717, -113.289645 49.492617, -113.28931 49.493003, -113.287226 49.493801, -113.286441 49.49411, -113.285643 49.494728, -113.285412 49.495165, -113.285566 49.495603, -113.286081 49.496066, -113.286621 49.496349, -113.28711 49.496477, -113.287779 49.496503, -113.288345 49.496323, -113.28886 49.496091, -113.289246 49.495911, -113.289761 49.495989, -113.290121 49.496066, -113.290353 49.496375, -113.290481 49.496992, -113.29025 49.497533, -113.288886 49.498279, -113.288114 49.498665, -113.287522 49.498742, -113.287162 49.49869, -113.28693 49.498382, -113.286904 49.498073, -113.286827 49.497764, -113.286415 49.49743, -113.285798 49.497327, -113.285386 49.497481, -113.284665 49.497816, -113.283482 49.498845, -113.28307 49.498999, -113.282452 49.499025, -113.281809 49.498871, -113.28096 49.49869, -113.280111 49.498613, -113.279725 49.498613, -113.279338 49.498716, -113.278978 49.499025, -113.278644 49.499488, -113.27885 49.499874, -113.282452 49.500235, -113.283533 49.500466, -113.284151 49.500955, -113.284447 49.501701, -113.284266 49.501984, -113.283855 49.502165, -113.282748 49.502087, -113.281796 49.501882, -113.280227 49.502087, -113.279403 49.50237, -113.278528 49.503091, -113.278219 49.504017, -113.277627 49.506616, -113.277138 49.507183, -113.276624 49.507234, -113.276057 49.507131, -113.275723 49.50726, -113.275491 49.507646, -113.275646 49.50816, -113.275967 49.509164, -113.277126 49.510374, -113.277949 49.510863, -113.278464 49.5113, -113.279004 49.512072, -113.279133 49.513667, -113.278721 49.515392, -113.278335 49.51552, -113.277897 49.515597, -113.277872 49.51534, -113.277511 49.515083, -113.277048 49.515031, -113.27607 49.515623, -113.275414 49.516086, -113.275286 49.516601, -113.275749 49.516961, -113.276547 49.517347, -113.277061 49.517656, -113.277267 49.518119, -113.277113 49.51902, -113.27616 49.519869, -113.276057 49.520204, -113.276727 49.520796, -113.276933 49.521413, -113.276469 49.522211, -113.275852 49.522443, -113.274539 49.522443, -113.273999 49.522365, -113.273072 49.521799, -113.272249 49.521156, -113.27176 49.520796, -113.271142 49.52059, -113.270602 49.520513, -113.270088 49.520847, -113.269264 49.52149, -113.268646 49.521979, -113.26826 49.522648, -113.268453 49.523755, -113.268942 49.524347, -113.26974 49.524759, -113.272082 49.525042, -113.272648 49.525016, -113.273446 49.524836, -113.273857 49.524604, -113.274449 49.524578, -113.274835 49.524604, -113.275247 49.524887, -113.27535 49.525453, -113.27499 49.526123, -113.274372 49.526431, -113.273317 49.52674, -113.272571 49.527178, -113.271799 49.527718, -113.271361 49.528619, -113.271271 49.529622, -113.271593 49.529231, -113.272213 49.528933, -113.272489 49.52845, -113.273569 49.527714, -113.274903 49.527301, -113.275754 49.527369, -113.276765 49.527737, -113.277546 49.528335, -113.278859 49.53016, -113.279319 49.530675, -113.280018 49.531668, -113.280937 49.53233, -113.282225 49.532827, -113.283328 49.532845, -113.284045 49.532606, -113.285921 49.531392, -113.287232 49.529708, -113.287556 49.52909, -113.287718 49.528531, -113.287556 49.528031, -113.286982 49.527486, -113.286158 49.526589, -113.285938 49.525971, -113.286077 49.524756, -113.286736 49.523743, -113.288478 49.522884, -113.290979 49.522814, -113.293969 49.522767, -113.296488 49.522614, -113.297244 49.522446, -113.29847 49.522446, -113.299151 49.522265, -113.299605 49.521947, -113.299423 49.52172, -113.298243 49.521675, -113.297653 49.521402, -113.297199 49.52113, -113.296836 49.520495, -113.297017 49.519314, -113.297426 49.517998, -113.297925 49.517272, -113.298969 49.516455, -113.301102 49.516273, -113.302418 49.51641, -113.305187 49.516818, -113.306549 49.516909, -113.307865 49.516727, -113.308637 49.515956, -113.309408 49.515139, -113.311224 49.514503, -113.311814 49.513823, -113.311542 49.51296, -113.310498 49.512098, -113.30959 49.511599, -113.309 49.511054, -113.308727 49.510782, -113.308591 49.509965, -113.308818 49.509329, -113.309635 49.509148, -113.310634 49.509011, -113.311768 49.508921, -113.31254 49.50883, -113.313085 49.50824, -113.313493 49.507514, -113.313493 49.506152, -113.313675 49.505471, -113.314764 49.504518, -113.315899 49.504155, -113.317442 49.503792, -113.319076 49.503973, -113.320029 49.504109, -113.321255 49.504019, -113.322752 49.503792, -113.323842 49.503338, -113.324954 49.502748, -113.327132 49.502158, -113.327275 49.502115, -113.32804 49.501885, -113.328993 49.50125, -113.330854 49.500252, -113.331898 49.499752, -113.33394 49.498436, -113.334485 49.498118, -113.335302 49.497483, -113.335983 49.497165, -113.336528 49.496757, -113.337662 49.496076, -113.338298 49.495486, -113.338842 49.495123, -113.339387 49.494714, -113.339977 49.494351, -113.340204 49.494306, -113.340431 49.493943, -113.340885 49.49358, -113.341384 49.493216, -113.343449 49.4924, -113.344856 49.491991, -113.347988 49.491673, -113.35053 49.491265, -113.351437 49.490675, -113.352209 49.490402, -113.353525 49.490039, -113.355568 49.489767, -113.356884 49.48954, -113.357792 49.488905, -113.35811 49.488133, -113.357429 49.486953, -113.356022 49.485773, -113.354433 49.485092, -113.354115 49.484093, -113.354025 49.482233, -113.354569 49.481143, -113.355273 49.48019, -113.356317 49.479645, -113.357905 49.479146, -113.360946 49.478602, -113.363216 49.478783, -113.365031 49.478919, -113.366256 49.479055, -113.367164 49.478965, -113.368844 49.477875, -113.370115 49.476831, -113.371613 49.476151, -113.372906 49.475651, -113.373723 49.47488, -113.374313 49.473654, -113.374858 49.472928, -113.375312 49.472156, -113.375902 49.471476, -113.376718 49.470749, -113.378489 49.469479, -113.380713 49.468026, -113.383391 49.466211, -113.384616 49.465621, -113.386931 49.465212, -113.389495 49.465257, -113.393308 49.465666, -113.394533 49.465984, -113.395623 49.46612, -113.396848 49.466029, -113.398845 49.465394, -113.399254 49.465121, -113.399299 49.464441, -113.398754 49.463805, -113.397574 49.463442, -113.393217 49.46258, -113.391765 49.462216, -113.390902 49.46149, -113.389314 49.459811, -113.388542 49.458495, -113.388134 49.457542, -113.388088 49.455544, -113.388134 49.453547, -113.388315 49.452594, -113.388837 49.45146, -113.390063 49.450733, -113.391515 49.450325, -113.393376 49.449916, -113.395691 49.450189, -113.396826 49.451006, -113.397279 49.45155, -113.397416 49.452277, -113.398096 49.453729, -113.399821 49.454954, -113.401409 49.455817, -113.403407 49.455908, -113.404723 49.45559, -113.404995 49.455181, -113.405086 49.454546, -113.404859 49.453911, -113.404859 49.453275, -113.404859 49.452503, -113.404541 49.451868, -113.402953 49.450915, -113.401637 49.449962, -113.399957 49.448872, -113.399186 49.447783, -113.398641 49.446739, -113.398505 49.445922, -113.398777 49.444697, -113.399231 49.444016, -113.400411 49.443471, -113.402227 49.443108, -113.404042 49.443017, -113.405131 49.443017, -113.408195 49.444969, -113.409148 49.445786, -113.409965 49.447102, -113.410964 49.448056, -113.412779 49.448963, -113.414459 49.449599, -113.415502 49.449826, -113.417136 49.450007, -113.418407 49.449644, -113.419043 49.448736, -113.418861 49.447783, -113.418044 49.446149, -113.417318 49.444697, -113.416864 49.443335, -113.416682 49.442246, -113.416819 49.441247, -113.417545 49.440385, -113.41868 49.439931, -113.419769 49.43975, -113.420722 49.439659, -113.421675 49.439886, -113.422129 49.440249, -113.424194 49.442019, -113.426146 49.4427, -113.427417 49.4427, -113.428234 49.442473, -113.429005 49.442019, -113.429868 49.440975, -113.430685 49.43984, -113.431456 49.438887, -113.432137 49.438297, -113.434497 49.437843, -113.435314 49.437616, -113.436267 49.437526, -113.437584 49.437526, -113.438741 49.437843, -113.439921 49.438433, -113.440375 49.439205, -113.440194 49.439976, -113.439014 49.441474, -113.438469 49.442291, -113.438287 49.443199, -113.438786 49.444424, -113.440012 49.446512, -113.440829 49.447102, -113.44151 49.447284, -113.443235 49.446921, -113.445186 49.446376, -113.446548 49.445423, -113.447501 49.444651, -113.448726 49.443607, -113.449861 49.443017, -113.451631 49.442609, -113.453765 49.44329, -113.455444 49.443925, -113.458962 49.444833, -113.461322 49.445287, -113.463046 49.445287, -113.465679 49.444924, -113.467494 49.444288, -113.469537 49.443199, -113.469854 49.442791, -113.4699 49.441973, -113.470127 49.441066, -113.47108 49.439613, -113.471988 49.438706, -113.473327 49.437707, -113.474189 49.436981, -113.475097 49.435937, -113.476277 49.435211, -113.477684 49.434711, -113.479409 49.434621, -113.480997 49.434258, -113.482813 49.433668, -113.48422 49.433123, -113.4854 49.431852, -113.486171 49.430808, -113.487079 49.429719, -113.488305 49.429038, -113.490279 49.428539, -113.491504 49.428493, -113.493138 49.428811, -113.494954 49.429446, -113.496179 49.430173, -113.49745 49.430717, -113.498903 49.43108, -113.499406 49.431181, -113.49981 49.431262, -113.500809 49.431262, -113.502852 49.431171, -113.504077 49.43099, -113.504576 49.430717, -113.504712 49.430309, -113.504849 49.429673, -113.504803 49.428811, -113.50503 49.42813, -113.504894 49.427222, -113.50444 49.426496, -113.504349 49.425725, -113.503759 49.425089, -113.503442 49.424272, -113.503532 49.423364, -113.504122 49.422366, -113.504894 49.421594, -113.50823 49.421549, -113.510227 49.421458, -113.51118 49.421231, -113.511816 49.420278, -113.512133 49.419325, -113.512814 49.418599, -113.51404 49.418099, -113.515311 49.418054, -113.516717 49.418145, -113.518578 49.418962, -113.519895 49.419824, -113.521029 49.42046, -113.523094 49.422048, -113.524002 49.422457, -113.525228 49.422684, -113.526589 49.422865, -113.527815 49.423228, -113.529131 49.424181, -113.530493 49.424908, -113.531536 49.425725, -113.531945 49.426269, -113.53199 49.427313, -113.532172 49.428448, -113.532989 49.428539, -113.534078 49.428539, -113.535939 49.427994, -113.5378 49.427177, -113.538435 49.426678, -113.539026 49.426088, -113.539162 49.425135, -113.539071 49.424181, -113.538889 49.423546, -113.538867 49.421776, -113.538186 49.42105, -113.537641 49.420732, -113.536597 49.420324, -113.533783 49.42055, -113.531786 49.420505, -113.530606 49.420233, -113.529698 49.419461, -113.529199 49.418644, -113.529018 49.418326, -113.529063 49.418009, -113.529517 49.417646, -113.530243 49.417373, -113.532331 49.417283, -113.533874 49.417373, -113.534782 49.418054, -113.53569 49.418281, -113.536961 49.418417, -113.53746 49.418599, -113.538549 49.418599, -113.539275 49.418417, -113.539502 49.41819, -113.539684 49.417782, -113.539684 49.416556, -113.539502 49.415512, -113.539321 49.414469, -113.539865 49.413334, -113.540592 49.412517, -113.541817 49.411927, -113.543269 49.411564, -113.544676 49.411518, -113.545902 49.411201, -113.547218 49.410837, -113.549215 49.410792, -113.551212 49.410565, -113.553164 49.410747, -113.554094 49.410701, -113.556182 49.410338, -113.558905 49.409839, -113.560313 49.409385, -113.561266 49.409022, -113.562128 49.408704, -113.562809 49.408114, -113.56417 49.406753, -113.56526 49.405436, -113.56644 49.404574, -113.567529 49.404302, -113.568619 49.404075, -113.569663 49.404075, -113.571319 49.404529, -113.572136 49.404982, -113.573271 49.406435, -113.574042 49.407297, -113.574587 49.407751, -113.575586 49.408069, -113.576811 49.408523, -113.576866 49.408542, -113.578082 49.408977, -113.579217 49.40943, -113.580851 49.40943, -113.582303 49.409249, -113.583801 49.409022, -113.58489 49.40934, -113.585798 49.409839, -113.587023 49.410384, -113.587886 49.410474, -113.589588 49.40993, -113.590541 49.409521, -113.591131 49.409249, -113.591358 49.408523, -113.591222 49.40766, -113.590632 49.406707, -113.590495 49.406117, -113.590495 49.405209, -113.591403 49.404846, -113.59272 49.404347, -113.593446 49.404029, -113.594626 49.403712, -113.595715 49.403575, -113.596759 49.403757, -113.598166 49.404438, -113.600072 49.405119, -113.601752 49.405618, -113.602796 49.405936, -113.605678 49.406026, -113.606449 49.405936, -113.607176 49.405845, -113.608764 49.405936, -113.609082 49.406117, -113.609399 49.406798, -113.60949 49.407706, -113.60949 49.408296, -113.610126 49.408704, -113.611578 49.409067, -113.613076 49.409022, -113.613893 49.408704, -113.615073 49.408205, -113.61648 49.407706, -113.617615 49.407252, -113.619022 49.407116, -113.619816 49.40707, -113.620679 49.40648, -113.621722 49.405345, -113.62204 49.40471, -113.622131 49.403439, -113.622267 49.402486, -113.622539 49.400807, -113.622948 49.399218, -113.623311 49.397993, -113.623084 49.396404, -113.622857 49.395723, -113.622812 49.395315, -113.623379 49.394452, -113.622744 49.393772, -113.622244 49.393091, -113.622153 49.392365, -113.62238 49.392001, -113.62297 49.391366, -113.623697 49.390912, -113.624695 49.390277, -113.625331 49.389777, -113.626148 49.389777, -113.626738 49.389278, -113.627146 49.388643, -113.627691 49.388325, -113.62878 49.388234, -113.629234 49.388007, -113.62937 49.387281, -113.629461 49.3866, -113.629733 49.38601, -113.630323 49.385647, -113.631277 49.385602, -113.63223 49.385693, -113.633001 49.385556, -113.633682 49.384966, -113.634862 49.384104, -113.63586 49.383877, -113.636723 49.383741, -113.638039 49.383786, -113.639673 49.383287, -113.641557 49.382425, -113.642737 49.382334, -113.644734 49.382561, -113.645914 49.382561, -113.647004 49.382561, -113.647684 49.382288, -113.648138 49.381971, -113.64841 49.381199, -113.648683 49.380836, -113.649772 49.380246, -113.652631 49.37952, -113.653857 49.379247, -113.654946 49.379202, -113.655763 49.379429, -113.656422 49.380473, -113.65692 49.380745, -113.658192 49.380518, -113.659281 49.379792, -113.659008 49.379111, -113.657874 49.378067, -113.656694 49.377114, -113.656512 49.37657, -113.656422 49.376206, -113.656603 49.375843, -113.657284 49.375435, -113.657919 49.375208, -113.658192 49.374754, -113.658282 49.374255, -113.657647 49.37371, -113.656058 49.372394, -113.65515 49.371622, -113.655468 49.370034, -113.655241 49.369126, -113.654424 49.367855, -113.654424 49.367038, -113.654674 49.365994, -113.655128 49.364905, -113.655672 49.364269, -113.656126 49.363861, -113.656943 49.363543, -113.657442 49.363498, -113.657942 49.36318, -113.658486 49.362681, -113.659258 49.362272, -113.660574 49.361546, -113.661119 49.361002, -113.661346 49.360321, -113.661119 49.35964, -113.660574 49.359458, -113.658713 49.359549, -113.656399 49.359504, -113.655854 49.359186, -113.655809 49.358641, -113.656172 49.357552, -113.656399 49.356735, -113.656444 49.356145, -113.656262 49.355782, -113.655491 49.355691, -113.654129 49.3556, -113.651678 49.3561, -113.650907 49.356236, -113.650544 49.356009, -113.650044 49.355419, -113.649409 49.354965, -113.649091 49.354148, -113.648206 49.352922, -113.647934 49.352287, -113.648297 49.351198, -113.649205 49.350245, -113.650339 49.3497, -113.651383 49.349428, -113.652927 49.348928, -113.654334 49.348656, -113.655786 49.348202, -113.656422 49.347839, -113.657012 49.346704, -113.657465 49.344798, -113.658101 49.344117, -113.65826 49.343209, -113.659031 49.341802, -113.659757 49.340804, -113.660438 49.340305, -113.661482 49.33858, -113.662163 49.337763, -113.662299 49.336855, -113.662299 49.335857, -113.662117 49.334631, -113.662208 49.333769, -113.664319 49.332861, -113.665817 49.332316, -113.667768 49.331908, -113.668585 49.331136, -113.668722 49.330138, -113.668676 49.328277, -113.668547 49.327181, -113.668494 49.326734, -113.669765 49.325554, -113.67403 49.322357, -113.677354 49.307536, -113.682479 49.288145, -113.684557 49.281358, -113.682203 49.277202, -113.679155 49.273601, -113.67777 49.269307, -113.676003 49.268422, -113.675719 49.267854, -113.674414 49.267514, -113.672939 49.267741, -113.671918 49.267287, -113.671407 49.266776, -113.671067 49.266039, -113.671233 49.265335, -113.671669 49.264928, -113.67225 49.264521, -113.672685 49.263882, -113.67376 49.262982, -113.675096 49.262052, -113.675379 49.261864, -113.675881 49.261529, -113.677391 49.261413, -113.678727 49.261704, -113.679831 49.262168, -113.680674 49.262633, -113.681341 49.262837, -113.682474 49.262604, -113.682997 49.262168, -113.683564 49.261617, -113.684261 49.261181, -113.685365 49.260571, -113.687195 49.259907, -113.687689 49.259728, -113.688531 49.259467, -113.689199 49.258683, -113.690564 49.258566, -113.692569 49.259118, -113.695227 49.259961, -113.696302 49.260222, -113.697231 49.260222, -113.698131 49.260019, -113.698538 49.259699, -113.698567 49.258741, -113.698829 49.25816, -113.698858 49.257521, -113.698858 49.257027, -113.699409 49.256649, -113.700601 49.255981, -113.701762 49.255574, -113.702489 49.255458, -113.705234 49.255052, -113.707354 49.255516, -113.708981 49.255691, -113.710288 49.255313, -113.711566 49.254587, -113.712496 49.253948, -113.713614 49.252931, -113.714631 49.252176, -113.715415 49.25174, -113.71649 49.251508, -113.717478 49.251595, -113.718785 49.251827, -113.719656 49.25206, -113.720412 49.25206, -113.72137 49.251682, -113.722619 49.25084, -113.723346 49.250113, -113.723781 49.249329, -113.724289 49.248254, -113.725248 49.247761, -113.726584 49.247441, -113.727979 49.247412, -113.729286 49.24779, -113.730099 49.248603, -113.730999 49.249823, -113.731784 49.250201, -113.732743 49.250462, -113.733991 49.250549, -113.735633 49.250433, -113.736591 49.249968, -113.737201 49.249097, -113.73755 49.248632, -113.738334 49.24808, -113.739089 49.247673, -113.739932 49.247325, -113.741413 49.24686, -113.743447 49.246279, -113.744376 49.24593, -113.746337 49.245146, -113.747354 49.24442, -113.747993 49.243665, -113.748254 49.243258, -113.747964 49.24291, -113.747935 49.242416, -113.748341 49.241806, -113.748951 49.241631, -113.749591 49.241573, -113.75023 49.241806, -113.751246 49.242009, -113.75235 49.24198, -113.752931 49.241864, -113.753541 49.241573, -113.754238 49.241109, -113.75447 49.240208, -113.754529 49.239395, -113.754238 49.238756, -113.753599 49.238175, -113.752205 49.237797, -113.751391 49.237768, -113.750956 49.238087, -113.75023 49.238116, -113.749416 49.237739, -113.74869 49.23739, -113.748022 49.236984, -113.747455 49.236461, -113.747194 49.235764, -113.747194 49.234486, -113.747397 49.233846, -113.747949 49.233236, -113.748501 49.232685, -113.749837 49.232423, -113.751232 49.23251, -113.753469 49.233178, -113.754747 49.233701, -113.756576 49.235241, -113.758508 49.236199, -113.761442 49.236548, -113.76394 49.236228, -113.766061 49.236112, -113.767807 49.235894, -113.769586 49.235168, -113.770458 49.234769, -113.771293 49.23397, -113.77162 49.233498, -113.771656 49.232481, -113.771438 49.231537, -113.77122 49.230629, -113.769913 49.23052, -113.768461 49.230775, -113.765846 49.231719, -113.764685 49.231864, -113.763632 49.231501, -113.762687 49.23052, -113.761671 49.229322, -113.760327 49.22816, -113.759456 49.227507, -113.758657 49.226744, -113.757967 49.226127, -113.757822 49.22551, -113.757895 49.224493, -113.758675 49.221661, -113.758748 49.219736, -113.758929 49.21872, -113.760128 49.216722, -113.761217 49.215379, -113.760654 49.213128, -113.759892 49.211385, -113.759456 49.209896, -113.759456 49.208516, -113.759855 49.207427, -113.760255 49.206592, -113.761162 49.205975, -113.761961 49.205938, -113.762833 49.206955, -113.764104 49.207754, -113.765338 49.208044, -113.766682 49.207826, -113.768715 49.206011, -113.76926 49.205248, -113.768987 49.204667, -113.767825 49.203288, -113.765973 49.201, -113.765102 49.199802, -113.764122 49.198713, -113.763541 49.197768, -113.763686 49.197042, -113.764848 49.196788, -113.767026 49.197333, -113.768043 49.198059, -113.768588 49.199076, -113.769532 49.199693, -113.770149 49.199729, -113.770512 49.199366, -113.770839 49.198967, -113.770803 49.198458, -113.77044 49.198095, -113.770077 49.197188, -113.769786 49.196352, -113.769205 49.195263, -113.768171 49.193193, -113.767698 49.191668, -113.767626 49.189962, -113.767771 49.189236, -113.768715 49.188764, -113.769696 49.188655, -113.770894 49.188618, -113.77162 49.188291, -113.77191 49.187856, -113.771983 49.187093, -113.772164 49.185968, -113.772618 49.182772, -113.772727 49.180884, -113.773018 49.180122, -113.774289 49.179504, -113.776322 49.178669, -113.777702 49.178161, -113.778864 49.177834, -113.779554 49.177181, -113.781315 49.175329, -113.782513 49.173477, -113.783058 49.171988, -113.784111 49.169555, -113.785254 49.167885, -113.785908 49.166687, -113.785944 49.165271, -113.786017 49.164181, -113.78638 49.163528, -113.786925 49.163274, -113.788994 49.163237, -113.790483 49.163455, -113.791282 49.163455, -113.793424 49.163165, -113.794913 49.163165, -113.796256 49.162693, -113.79662 49.162293, -113.796474 49.161858, -113.795784 49.161458, -113.794986 49.16095, -113.794187 49.160696, -113.793025 49.160405, -113.7915 49.160514, -113.790665 49.160659, -113.789612 49.160514, -113.788486 49.159788, -113.787978 49.158989, -113.787941 49.158299, -113.788722 49.156193, -113.789012 49.155213, -113.789957 49.154378, -113.791227 49.153071, -113.791881 49.151763, -113.792607 49.150057, -113.793079 49.148967, -113.793715 49.148241, -113.795349 49.147733, -113.797527 49.147551, -113.798871 49.147188, -113.800251 49.146317, -113.801558 49.144973, -113.802792 49.144029, -113.804644 49.142904, -113.806169 49.142141, -113.806732 49.141596, -113.80833 49.140907, -113.810545 49.13989, -113.81374 49.138546, -113.815882 49.137457, -113.819713 49.135569, -113.821746 49.134371, -113.823271 49.133608, -113.824288 49.133354, -113.825886 49.133427, -113.827193 49.133536, -113.830406 49.132737, -113.83175 49.1327, -113.832294 49.132846, -113.833202 49.132628, -113.834146 49.132067, -113.83361 49.132064, -113.81535 49.131976, -113.809631 49.13196, -113.808575 49.131974, -113.808537 49.130551, -113.808105 49.114383, -113.807035 49.088964, -113.787364 49.088543, -113.787383 49.088193, -113.787384 49.073406, -113.735288 49.073084, -113.731603 49.073059, -113.710708 49.072912, -113.690591 49.072723, -113.689877 49.072716, -113.653391 49.072367, -113.65355 49.048733, -113.65327 49.024399, -113.653269 48.997737, -113.653269 48.997734, -113.650927 48.997747, -113.615538 48.997941, -113.609697 48.997973, -113.60008 48.998025, -113.582459 48.998121, -113.573952 48.998079, -113.567833 48.998049, -113.556977 48.997997, -113.526922 48.997853, -113.510826 48.997887, -113.494061 48.997922, -113.481768 48.997949, -113.476373 48.997961, -113.460758 48.997995, -113.435103 48.998022, -113.432614 48.998025, -113.410567 48.998055, -113.388055 48.998086, -113.386664 48.998088, -113.379116 48.9981, -113.378777 48.9981, -113.369069 48.998113, -113.346097 48.998144, -113.333571 48.998161, -113.319253 48.998181, -113.315772 48.998186, -113.294569 48.998215, -113.287333 48.998225, -113.267891 48.998249, -113.260269 48.998258, -113.256063 48.998263, -113.234914 48.99829, -113.224352 48.998303, -113.208354 48.998328, -113.194339 48.99835, -113.173261 48.998383, -113.165118 48.998396, -113.164212 48.998397, -113.157414 48.998407, -113.141372 48.998431, -113.104957 48.998476, -113.098269 48.998484, -113.085005 48.9985, -113.065552 48.998523, -113.064362 48.998524, -113.045851 48.998547, -113.04074 48.998554, -113.037674 48.998558, -112.990303 48.99862, -112.966937 48.998571, -112.95299 48.998542, -112.937366 48.998508, -112.923947 48.998479, -112.895872 48.998495, -112.893942 48.998496, -112.889465 48.998498, -112.855572 48.998518, -112.839328 48.998528, -112.839307 48.998528, -112.82319 48.998538, -112.791466 48.998558, -112.790261 48.998559, -112.788472 48.99856, -112.788241 48.99856, -112.774095 48.99857, -112.770707 48.998573, -112.767818 48.998575, -112.760198 48.99858, -112.755423 48.998586, -112.751768 48.99859, -112.742633 48.9986, -112.725291 48.998619, -112.713103 48.998634, -112.712042 48.998635, -112.69431 48.998656, -112.67594 48.998667, -112.657864 48.998678, -112.624608 48.9987, -112.617527 48.998704, -112.610786 48.998707, -112.601711 48.998711, -112.594035 48.998714, -112.5805 48.998722, -112.564403 48.998731, -112.531217 48.998737, -112.523675 48.998739, -112.502445 48.998744, -112.494371 48.998746, -112.47243 48.998663, -112.464289 48.998633, -112.439348 48.998541, -112.424269 48.998591, -112.409504 48.99864, -112.409504 48.99864, -112.408991 49.086697, -112.408485 49.173562, -112.695404 49.173952, -112.69578 49.261131, -112.695879 49.334184, -112.751838 49.334003, -112.752059 49.349057, -112.752037 49.377608, -112.751991 49.435848, -112.751981 49.449544, -112.763082 49.44937, -112.763085 49.450437, -112.763093 49.460347, -112.763097 49.465007, -112.76312 49.479568, -112.763101 49.494114, -112.76308 49.499996, -112.763056 49.523397, -112.763069 49.523397, -112.779939 49.52337, -112.78008 49.523369, -112.782725 49.523365, -112.780871 49.526702, -112.780053 49.528876, -112.779723 49.531008, -112.779684 49.537795, -112.7796 49.552252, -112.779599 49.55237, -112.804561 49.552408, -112.804552 49.552516, -112.804463 49.552715, -112.804488 49.553012, -112.804127 49.553359, -112.803694 49.553609, -112.803643 49.553718, -112.803646 49.553807, -112.80369 49.553879, -112.803974 49.55409, -112.804226 49.554176, -112.804574 49.554234, -112.805074 49.55428, -112.805243 49.554367, -112.805804 49.554574, -112.806494 49.554914, -112.806662 49.554975, -112.807129 49.555273, -112.807207 49.555497, -112.807076 49.555715, -112.806887 49.555835, -112.806079 49.556054, -112.805819 49.556103, -112.805363 49.556119, -112.80506 49.55616, -112.804828 49.556236, -112.806271 49.5575, -112.806352 49.557831, -112.80649 49.558198, -112.806545 49.558548, -112.806349 49.558857, -112.806223 49.559183, -112.806212 49.559273, -112.806287 49.559442, -112.806254 49.559659, -112.806022 49.56013, -112.806 49.560265, -112.806034 49.560445, -112.806208 49.560667, -112.806855 49.560945, -112.807618 49.561023, -112.807883 49.561073, -112.808076 49.56107, -112.808463 49.561073, -112.808672 49.561105, -112.809405 49.561103, -112.809879 49.561203, -112.810364 49.561223, -112.810782 49.561315, -112.811431 49.561296, -112.812193 49.56132, -112.813505 49.561281, -112.813862 49.561213, -112.814245 49.561099, -112.814604 49.561075, -112.814646 49.561093, -112.814746 49.56119, -112.814749 49.561271, -112.814623 49.561588, -112.814394 49.561771, -112.814299 49.5618, -112.814091 49.561803, -112.813942 49.561868, -112.81374 49.562015, -112.813449 49.562389, -112.813219 49.562536, -112.812878 49.563018, -112.812801 49.563191, -112.812846 49.563289, -112.812917 49.563324, -112.812948 49.563431, -112.812955 49.563611, -112.812896 49.563882, -112.812945 49.564097, -112.812786 49.564648, -112.812578 49.565002, -112.8125 49.565147, -112.812482 49.565408, -112.812554 49.565479, -112.812695 49.565549, -112.812905 49.565609, -112.813554 49.565599, -112.814042 49.56569, -112.814554 49.5657, -112.814719 49.56567, -112.815277 49.565437, -112.815605 49.565341, -112.816173 49.564982, -112.816594 49.564786, -112.8168 49.564747, -112.817022 49.564761, -112.817218 49.564812, -112.817485 49.564943, -112.817639 49.564986, -112.817776 49.564948, -112.818129 49.564762, -112.818343 49.564579, -112.818538 49.564243, -112.818684 49.564088, -112.819106 49.563155, -112.819218 49.562802, -112.819227 49.562676, -112.819306 49.562585, -112.81954 49.562554, -112.819845 49.562567, -112.820331 49.562632, -112.820541 49.562682, -112.820725 49.562805, -112.821328 49.56303, -112.821684 49.563294, -112.822258 49.563861, -112.822641 49.564133, -112.822993 49.564281, -112.823436 49.56431, -112.823521 49.564344, -112.823566 49.564461, -112.823549 49.5651), (-112.869173 49.427072, -112.868206 49.427068, -112.867279 49.427064, -112.865864 49.427058, -112.865267 49.427056, -112.865296 49.423609, -112.862029 49.423608, -112.860438 49.423607, -112.858841 49.423606, -112.855648 49.423605, -112.852612 49.423604, -112.852611 49.42152, -112.840152 49.421513, -112.840084 49.41946, -112.85261 49.419433, -112.852608 49.417312, -112.852607 49.415184, -112.852607 49.4131, -112.852606 49.412693, -112.852607 49.406751, -112.858847 49.406762, -112.862278 49.406767, -112.863705 49.40677, -112.868025 49.406799, -112.86793 49.404919, -112.874932 49.404921, -112.875014 49.401754, -112.890632 49.401721, -112.89054 49.406758, -112.881317 49.40677, -112.881316 49.408947, -112.881315 49.411027, -112.881313 49.413108, -112.881312 49.415193, -112.881311 49.417322, -112.88131 49.419441, -112.881308 49.421528, -112.884033 49.421561, -112.884467 49.421566, -112.877924 49.424076, -112.875819 49.424926, -112.875 49.425193, -112.869173 49.427072), (-113.616869 49.290672, -113.618432 49.290685, -113.619085 49.290692, -113.620238 49.290704, -113.621567 49.290702, -113.622882 49.290736, -113.623869 49.290757, -113.626487 49.290749, -113.628816 49.290769, -113.632091 49.290769, -113.628833 49.295424, -113.628851 49.29702, -113.628868 49.298586, -113.626468 49.298562, -113.623556 49.298564, -113.616414 49.298557, -113.615323 49.298562, -113.614743 49.298564, -113.614479 49.298566, -113.616876 49.293867, -113.616869 49.290672), (-113.510679 49.35994, -113.513568 49.359959, -113.516361 49.359953, -113.51912 49.359967, -113.521823 49.359966, -113.521846 49.361759, -113.521866 49.363573, -113.527554 49.363554, -113.528121 49.36355, -113.527829 49.363652, -113.525045 49.364694, -113.524004 49.365346, -113.523297 49.366072, -113.523033 49.368993, -113.523208 49.369718, -113.527696 49.369955, -113.527696 49.370773, -113.524375 49.370779, -113.522984 49.370781, -113.521868 49.370783, -113.519147 49.370773, -113.516315 49.370784, -113.513542 49.370794, -113.510646 49.370801, -113.507755 49.370762, -113.507763 49.368986, -113.507772 49.367179, -113.507769 49.365361, -113.507766 49.363567, -113.507762 49.361717, -113.510651 49.361737, -113.510679 49.35994))\"\n        ],\n        \"semantic_type\": \"\",\n        \"description\": \"\"\n      }\n    },\n    {\n      \"column\": \"ModelAreaName\",\n      \"properties\": {\n        \"dtype\": \"category\",\n        \"num_unique_values\": 15,\n        \"samples\": [\n          \"Lloydminster\"\n        ],\n        \"semantic_type\": \"\",\n        \"description\": \"\"\n      }\n    }\n  ]\n}"
            }
          },
          "metadata": {},
          "execution_count": 30
        }
      ]
    },
    {
      "cell_type": "code",
      "source": [
        "model_areas.crs"
      ],
      "metadata": {
        "id": "D5RevCQTKU_j",
        "outputId": "6148b835-631e-41de-cc42-7cb27ef7cbf4",
        "colab": {
          "base_uri": "https://localhost:8080/"
        }
      },
      "execution_count": 20,
      "outputs": [
        {
          "output_type": "execute_result",
          "data": {
            "text/plain": [
              "<Geographic 2D CRS: EPSG:4326>\n",
              "Name: WGS 84\n",
              "Axis Info [ellipsoidal]:\n",
              "- Lat[north]: Geodetic latitude (degree)\n",
              "- Lon[east]: Geodetic longitude (degree)\n",
              "Area of Use:\n",
              "- name: World.\n",
              "- bounds: (-180.0, -90.0, 180.0, 90.0)\n",
              "Datum: World Geodetic System 1984 ensemble\n",
              "- Ellipsoid: WGS 84\n",
              "- Prime Meridian: Greenwich"
            ]
          },
          "metadata": {},
          "execution_count": 20
        }
      ]
    },
    {
      "cell_type": "code",
      "source": [
        "outside_polygons = multi_polys[multi_polys['ModelAreaName'].isna()]"
      ],
      "metadata": {
        "id": "BmPNOTQ6LTRb"
      },
      "execution_count": 21,
      "outputs": []
    },
    {
      "cell_type": "markdown",
      "source": [
        "# Prep Munc Function"
      ],
      "metadata": {
        "id": "b0HWfDkSqNa5"
      }
    },
    {
      "cell_type": "code",
      "source": [
        "@time_it\n",
        "def prep_muni(df_muni,model_area_df,prov):\n",
        "  muni_df = df_muni[df_muni['PROV']==prov].sort_values('NAME')\n",
        "  model_area_lut = muni_df[['UNIQUE_ID','NAME','PROV','geometry']]\n",
        "\n",
        "  if prov == \"BC\":\n",
        "    pass\n",
        "\n",
        "  model_areas = model_area_df\n",
        "  model_area_lut['Obj_Npolygons'] = model_area_lut.geometry.apply(lambda g: 1 if g.geom_type == \"Polygon\" else len(g.geoms))\n",
        "  multi_polys = model_area_lut[model_area_lut['Obj_Npolygons']>1]\n",
        "  multi_polys = multi_polys.explode(index_parts = False).reset_index(drop=True)\n",
        "  multi_polys = multi_polys.sjoin(model_areas[['ModelAreaName','geometry']],how='left',predicate='intersects')\n",
        "  multi_polys['TempName'] = multi_polys['ModelAreaName']+\"_\"+multi_polys['NAME']\n",
        "  merged = multi_polys.dissolve(by='TempName',as_index = False)\n",
        "  merged = merged[['UNIQUE_ID','NAME','PROV','ModelAreaName','geometry']]\n",
        "  model_area_lut = pd.concat([model_area_lut[model_area_lut['Obj_Npolygons']==1],merged],ignore_index=True)\n",
        "  model_area_lut= model_area_lut.drop(columns=['Obj_Npolygons'])\n",
        "  model_area_lut.to_file(\"ModelAreaLUT\", driver=\"MapInfo File\")\n",
        "  print(\"Municipality lookup table created for Alberta (AB) in MapInfo TAB format at\")\n",
        "  return model_area_lut\n",
        "\n"
      ],
      "metadata": {
        "id": "qzdtGXTQEYfO"
      },
      "execution_count": 36,
      "outputs": []
    },
    {
      "cell_type": "code",
      "source": [
        "muni_df = gpd.read_file(\"MunicipalitiesRegion.tab\", driver='MapInfo File') # Explicitly specify the MapInfo File driver\n",
        "prov_list = [\"AB\"]\n",
        "for prov in prov_list:\n",
        "  model_areas = gpd.read_file(f\"ModelAreas_{prov}.TAB\", driver='MapInfo File')\n",
        "  model_area_lut = prep_muni(muni_df,model_areas,prov)\n"
      ],
      "metadata": {
        "id": "_wKjxRAuRYPm",
        "outputId": "65de9e9e-4835-43a2-a280-998043990e4d",
        "colab": {
          "base_uri": "https://localhost:8080/"
        }
      },
      "execution_count": 37,
      "outputs": [
        {
          "output_type": "stream",
          "name": "stdout",
          "text": [
            "Municipality lookup table created for Alberta (AB) in MapInfo TAB format at\n",
            "Function 'prep_muni' took 0.135369 seconds to execute.\n"
          ]
        },
        {
          "output_type": "stream",
          "name": "stderr",
          "text": [
            "/usr/local/lib/python3.11/dist-packages/geopandas/geodataframe.py:1819: SettingWithCopyWarning: \n",
            "A value is trying to be set on a copy of a slice from a DataFrame.\n",
            "Try using .loc[row_indexer,col_indexer] = value instead\n",
            "\n",
            "See the caveats in the documentation: https://pandas.pydata.org/pandas-docs/stable/user_guide/indexing.html#returning-a-view-versus-a-copy\n",
            "  super().__setitem__(key, value)\n"
          ]
        }
      ]
    },
    {
      "cell_type": "markdown",
      "source": [
        "# Plot Map\n",
        "Check which area fall outside the"
      ],
      "metadata": {
        "id": "5ixJp7X4qVRB"
      }
    },
    {
      "cell_type": "code",
      "source": [
        "import matplotlib.pyplot as plt\n",
        "\n",
        "# Plot the model_areas\n",
        "fig, ax = plt.subplots(figsize=(10, 10))\n",
        "model_areas.plot(ax=ax, color='lightblue', edgecolor='black', label='Model Areas')\n",
        "\n",
        "# Plot the outside polygons\n",
        "outside_polygons.plot(ax=ax, color='red', alpha=0.7, label='Outside Polygons')\n",
        "\n",
        "# Add legend and title\n",
        "plt.legend()\n",
        "plt.title('Polygons Outside Model Areas')\n",
        "plt.show()"
      ],
      "metadata": {
        "id": "n0r2vQ-uLe1L",
        "outputId": "28e93672-457c-4c2a-a728-a091851148e6",
        "colab": {
          "base_uri": "https://localhost:8080/",
          "height": 960
        }
      },
      "execution_count": null,
      "outputs": [
        {
          "output_type": "stream",
          "name": "stderr",
          "text": [
            "<ipython-input-71-827b568daff1>:11: UserWarning: Legend does not support handles for PatchCollection instances.\n",
            "See: https://matplotlib.org/stable/tutorials/intermediate/legend_guide.html#implementing-a-custom-legend-handler\n",
            "  plt.legend()\n",
            "<ipython-input-71-827b568daff1>:11: UserWarning: No artists with labels found to put in legend.  Note that artists whose label start with an underscore are ignored when legend() is called with no argument.\n",
            "  plt.legend()\n"
          ]
        },
        {
          "output_type": "display_data",
          "data": {
            "text/plain": [
              "<Figure size 1000x1000 with 1 Axes>"
            ],
            "image/png": "[encoded data removed]"
          },
          "metadata": {}
        }
      ]
    },
    {
      "cell_type": "code",
      "source": [
        "print(model_areas.is_valid.all())"
      ],
      "metadata": {
        "id": "ESIS2yv5LhrM",
        "outputId": "97f5fbf8-6093-45e8-e69b-2c9bee7128b8",
        "colab": {
          "base_uri": "https://localhost:8080/"
        }
      },
      "execution_count": null,
      "outputs": [
        {
          "output_type": "stream",
          "name": "stdout",
          "text": [
            "True\n"
          ]
        }
      ]
    },
    {
      "cell_type": "markdown",
      "source": [
        "# Convert MAPinfo file to jeoson\n"
      ],
      "metadata": {
        "id": "zqSmWtGgmqqQ"
      }
    },
    {
      "source": [
        "import geopandas as gpd\n",
        "\n",
        "# Read the .TAB file\n",
        "tab_file = \"/content/BoundaryUpgradeLog.TAB\"\n",
        "gdf = gpd.read_file(tab_file)\n",
        "\n",
        "# Convert to GeoJSON\n",
        "geojson_file = \"output.geojson\"\n",
        "gdf.to_file(geojson_file, driver=\"GeoJSON\")\n",
        "\n",
        "print(f\"GeoJSON file saved to {geojson_file}\")\n"
      ],
      "cell_type": "code",
      "metadata": {
        "id": "BBDd5apzlN3o",
        "outputId": "0da2c775-f0af-4da0-b093-1da1f76f348e",
        "colab": {
          "base_uri": "https://localhost:8080/"
        }
      },
      "execution_count": null,
      "outputs": [
        {
          "output_type": "stream",
          "name": "stdout",
          "text": [
            "GeoJSON file saved to output.geojson\n"
          ]
        }
      ]
    },
    {
      "cell_type": "markdown",
      "source": [
        "# Create a map with Layers in Folium"
      ],
      "metadata": {
        "id": "AZuLPKKJm0Li"
      }
    },
    {
      "cell_type": "code",
      "source": [
        "import folium\n",
        "import json\n",
        "\n",
        "# Create a map centered around a specific location\n",
        "m = folium.Map(location=[45.4215, -75.6972], zoom_start=13)\n",
        "\n",
        "# Open the GeoJSON file and load the data using json.load()\n",
        "with open(\"/content/output.geojson\") as f:\n",
        "    geojson = json.load(f)\n",
        "\n",
        "# Add the GeoJSON layer (boundary layer)\n",
        "folium.GeoJson(geojson, name='Boundary Layer').add_to(m)\n",
        "\n",
        "# Add layer control to toggle the boundary layer\n",
        "folium.LayerControl().add_to(m)\n",
        "\n",
        "# Save the map to an HTML file\n",
        "m.save('map_with_geojson.html')\n"
      ],
      "metadata": {
        "id": "LldCfpuLLkkx"
      },
      "execution_count": null,
      "outputs": []
    },
    {
      "cell_type": "code",
      "source": [],
      "metadata": {
        "id": "lLxKsEYfk7Sf"
      },
      "execution_count": null,
      "outputs": []
    }
  ]
}
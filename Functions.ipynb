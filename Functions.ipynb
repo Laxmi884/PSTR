{
  "nbformat": 4,
  "nbformat_minor": 0,
  "metadata": {
    "colab": {
      "name": "Competetive Coding I.ipynb",
      "provenance": []
    },
    "kernelspec": {
      "name": "python3",
      "display_name": "Python 3"
    }
  },
  "cells": [
    {
      "cell_type": "code",
      "source": [
        "!pip install geopandas\n",
        "!pip install fiona\n",
        "!pip install pandas\n",
        "!pip install pyproj\n",
        "!pip install os\n",
        "!pip install shapely\n",
        "!pip install unary_union"
      ],
      "metadata": {
        "colab": {
          "base_uri": "https://localhost:8080/"
        },
        "id": "LOlyr0fwwrg8",
        "outputId": "a219417a-5ddc-46f0-c252-163cbfa03633"
      },
      "execution_count": 2,
      "outputs": [
        {
          "output_type": "stream",
          "name": "stdout",
          "text": [
            "Requirement already satisfied: geopandas in /usr/local/lib/python3.11/dist-packages (1.0.1)\n",
            "Requirement already satisfied: numpy>=1.22 in /usr/local/lib/python3.11/dist-packages (from geopandas) (2.0.2)\n",
            "Requirement already satisfied: pyogrio>=0.7.2 in /usr/local/lib/python3.11/dist-packages (from geopandas) (0.10.0)\n",
            "Requirement already satisfied: packaging in /usr/local/lib/python3.11/dist-packages (from geopandas) (24.2)\n",
            "Requirement already satisfied: pandas>=1.4.0 in /usr/local/lib/python3.11/dist-packages (from geopandas) (2.2.2)\n",
            "Requirement already satisfied: pyproj>=3.3.0 in /usr/local/lib/python3.11/dist-packages (from geopandas) (3.7.1)\n",
            "Requirement already satisfied: shapely>=2.0.0 in /usr/local/lib/python3.11/dist-packages (from geopandas) (2.1.0)\n",
            "Requirement already satisfied: python-dateutil>=2.8.2 in /usr/local/lib/python3.11/dist-packages (from pandas>=1.4.0->geopandas) (2.9.0.post0)\n",
            "Requirement already satisfied: pytz>=2020.1 in /usr/local/lib/python3.11/dist-packages (from pandas>=1.4.0->geopandas) (2025.2)\n",
            "Requirement already satisfied: tzdata>=2022.7 in /usr/local/lib/python3.11/dist-packages (from pandas>=1.4.0->geopandas) (2025.2)\n",
            "Requirement already satisfied: certifi in /usr/local/lib/python3.11/dist-packages (from pyogrio>=0.7.2->geopandas) (2025.1.31)\n",
            "Requirement already satisfied: six>=1.5 in /usr/local/lib/python3.11/dist-packages (from python-dateutil>=2.8.2->pandas>=1.4.0->geopandas) (1.17.0)\n",
            "Collecting fiona\n",
            "  Downloading fiona-1.10.1-cp311-cp311-manylinux_2_17_x86_64.manylinux2014_x86_64.whl.metadata (56 kB)\n",
            "\u001b[2K     \u001b[90m━━━━━━━━━━━━━━━━━━━━━━━━━━━━━━━━━━━━━━━━\u001b[0m \u001b[32m56.6/56.6 kB\u001b[0m \u001b[31m1.5 MB/s\u001b[0m eta \u001b[36m0:00:00\u001b[0m\n",
            "\u001b[?25hRequirement already satisfied: attrs>=19.2.0 in /usr/local/lib/python3.11/dist-packages (from fiona) (25.3.0)\n",
            "Requirement already satisfied: certifi in /usr/local/lib/python3.11/dist-packages (from fiona) (2025.1.31)\n",
            "Requirement already satisfied: click~=8.0 in /usr/local/lib/python3.11/dist-packages (from fiona) (8.1.8)\n",
            "Collecting click-plugins>=1.0 (from fiona)\n",
            "  Downloading click_plugins-1.1.1-py2.py3-none-any.whl.metadata (6.4 kB)\n",
            "Collecting cligj>=0.5 (from fiona)\n",
            "  Downloading cligj-0.7.2-py3-none-any.whl.metadata (5.0 kB)\n",
            "Downloading fiona-1.10.1-cp311-cp311-manylinux_2_17_x86_64.manylinux2014_x86_64.whl (17.3 MB)\n",
            "\u001b[2K   \u001b[90m━━━━━━━━━━━━━━━━━━━━━━━━━━━━━━━━━━━━━━━━\u001b[0m \u001b[32m17.3/17.3 MB\u001b[0m \u001b[31m97.5 MB/s\u001b[0m eta \u001b[36m0:00:00\u001b[0m\n",
            "\u001b[?25hDownloading click_plugins-1.1.1-py2.py3-none-any.whl (7.5 kB)\n",
            "Downloading cligj-0.7.2-py3-none-any.whl (7.1 kB)\n",
            "Installing collected packages: cligj, click-plugins, fiona\n",
            "Successfully installed click-plugins-1.1.1 cligj-0.7.2 fiona-1.10.1\n",
            "Requirement already satisfied: pandas in /usr/local/lib/python3.11/dist-packages (2.2.2)\n",
            "Requirement already satisfied: numpy>=1.23.2 in /usr/local/lib/python3.11/dist-packages (from pandas) (2.0.2)\n",
            "Requirement already satisfied: python-dateutil>=2.8.2 in /usr/local/lib/python3.11/dist-packages (from pandas) (2.9.0.post0)\n",
            "Requirement already satisfied: pytz>=2020.1 in /usr/local/lib/python3.11/dist-packages (from pandas) (2025.2)\n",
            "Requirement already satisfied: tzdata>=2022.7 in /usr/local/lib/python3.11/dist-packages (from pandas) (2025.2)\n",
            "Requirement already satisfied: six>=1.5 in /usr/local/lib/python3.11/dist-packages (from python-dateutil>=2.8.2->pandas) (1.17.0)\n",
            "Requirement already satisfied: pyproj in /usr/local/lib/python3.11/dist-packages (3.7.1)\n",
            "Requirement already satisfied: certifi in /usr/local/lib/python3.11/dist-packages (from pyproj) (2025.1.31)\n",
            "\u001b[31mERROR: Could not find a version that satisfies the requirement os (from versions: none)\u001b[0m\u001b[31m\n",
            "\u001b[0m\u001b[31mERROR: No matching distribution found for os\u001b[0m\u001b[31m\n",
            "\u001b[0mRequirement already satisfied: shapely in /usr/local/lib/python3.11/dist-packages (2.1.0)\n",
            "Requirement already satisfied: numpy>=1.21 in /usr/local/lib/python3.11/dist-packages (from shapely) (2.0.2)\n",
            "\u001b[31mERROR: Could not find a version that satisfies the requirement unary_union (from versions: none)\u001b[0m\u001b[31m\n",
            "\u001b[0m\u001b[31mERROR: No matching distribution found for unary_union\u001b[0m\u001b[31m\n",
            "\u001b[0m"
          ]
        }
      ]
    },
    {
      "cell_type": "code",
      "source": [
        "import geopandas as gpd\n",
        "import fiona\n",
        "import pandas as pd\n",
        "import pyproj\n",
        "import os\n",
        "from shapely.geometry import shape\n",
        "from shapely.ops import split, unary_union"
      ],
      "metadata": {
        "id": "dKZbQGmhwihQ"
      },
      "execution_count": 3,
      "outputs": []
    },
    {
      "cell_type": "code",
      "source": [
        "import time\n",
        "\n",
        "def time_it(func):\n",
        "    \"\"\"\n",
        "    A decorator function to measure the execution time of a given function.\n",
        "\n",
        "    Args:\n",
        "        func: The function whose execution time needs to be measured.\n",
        "\n",
        "    Returns:\n",
        "        A wrapped version of the input function that prints the execution time.\n",
        "    \"\"\"\n",
        "    def wrapper(*args, **kwargs):\n",
        "        # Record the start time\n",
        "        start_time = time.time()\n",
        "\n",
        "        # Call the original function with its arguments\n",
        "        result = func(*args, **kwargs)\n",
        "\n",
        "        # Record the end time\n",
        "        end_time = time.time()\n",
        "\n",
        "        # Calculate and print the elapsed time\n",
        "        elapsed_time = end_time - start_time\n",
        "        print(f\"Function '{func.__name__}' took {elapsed_time:.6f} seconds to execute.\")\n",
        "\n",
        "        # Return the result of the original function\n",
        "        return result\n",
        "\n",
        "    return wrapper\n"
      ],
      "metadata": {
        "id": "sRq192Nvwmg6"
      },
      "execution_count": 4,
      "outputs": []
    },
    {
      "cell_type": "code",
      "source": [
        "pd.set_option('display.max_columns', None)\n"
      ],
      "metadata": {
        "id": "4ajlY-Rjwylf"
      },
      "execution_count": 5,
      "outputs": []
    },
    {
      "cell_type": "markdown",
      "source": [
        "# Prep Munc Function"
      ],
      "metadata": {
        "id": "b0HWfDkSqNa5"
      }
    },
    {
      "cell_type": "code",
      "source": [
        "@time_it\n",
        "def prep_muni(df_muni,model_area_df,prov):\n",
        "  muni_df = df_muni[df_muni['PROV']==prov].sort_values('NAME')\n",
        "  model_area_lut = muni_df[['UNIQUE_ID','NAME','PROV','geometry']]\n",
        "\n",
        "  if prov == \"BC\":\n",
        "    pass\n",
        "\n",
        "  model_areas = model_area_df\n",
        "  model_area_lut['Obj_Npolygons'] = model_area_lut.geometry.apply(lambda g: 1 if g.geom_type == \"Polygon\" else len(g.geoms))\n",
        "  multi_polys = model_area_lut[model_area_lut['Obj_Npolygons']>1]\n",
        "  multi_polys = multi_polys.explode(index_parts = False).reset_index(drop=True)\n",
        "  multi_polys = multi_polys.sjoin(model_areas[['ModelAreaName','geometry']],how='left',predicate='intersects')\n",
        "  multi_polys['TempName'] = multi_polys['ModelAreaName']+\"_\"+multi_polys['NAME']\n",
        "  merged = multi_polys.dissolve(by='TempName',as_index = False)\n",
        "  merged = merged[['UNIQUE_ID','NAME','PROV','ModelAreaName','geometry']]\n",
        "  model_area_lut = pd.concat([model_area_lut[model_area_lut['Obj_Npolygons']==1],merged],ignore_index=True)\n",
        "  model_area_lut= model_area_lut.drop(columns=['Obj_Npolygons'])\n",
        "  model_area_lut.to_file(\"ModelAreaLUT\", driver=\"MapInfo File\")\n",
        "  print(\"Municipality lookup table created for Alberta (AB) in MapInfo TAB format at\")\n",
        "  return model_area_lut\n",
        "\n"
      ],
      "metadata": {
        "id": "qzdtGXTQEYfO"
      },
      "execution_count": 36,
      "outputs": []
    },
    {
      "cell_type": "code",
      "source": [
        "muni_df = gpd.read_file(\"MunicipalitiesRegion.tab\", driver='MapInfo File') # Explicitly specify the MapInfo File driver\n",
        "prov_list = [\"AB\"]\n",
        "for prov in prov_list:\n",
        "  model_areas = gpd.read_file(f\"ModelAreas_{prov}.TAB\", driver='MapInfo File')\n",
        "  model_area_lut = prep_muni(muni_df,model_areas,prov)\n"
      ],
      "metadata": {
        "colab": {
          "base_uri": "https://localhost:8080/"
        },
        "id": "_wKjxRAuRYPm",
        "outputId": "65de9e9e-4835-43a2-a280-998043990e4d"
      },
      "execution_count": 37,
      "outputs": [
        {
          "output_type": "stream",
          "name": "stdout",
          "text": [
            "Municipality lookup table created for Alberta (AB) in MapInfo TAB format at\n",
            "Function 'prep_muni' took 0.135369 seconds to execute.\n"
          ]
        },
        {
          "output_type": "stream",
          "name": "stderr",
          "text": [
            "/usr/local/lib/python3.11/dist-packages/geopandas/geodataframe.py:1819: SettingWithCopyWarning: \n",
            "A value is trying to be set on a copy of a slice from a DataFrame.\n",
            "Try using .loc[row_indexer,col_indexer] = value instead\n",
            "\n",
            "See the caveats in the documentation: https://pandas.pydata.org/pandas-docs/stable/user_guide/indexing.html#returning-a-view-versus-a-copy\n",
            "  super().__setitem__(key, value)\n"
          ]
        }
      ]
    },
    {
      "cell_type": "markdown",
      "source": [
        "# Plot Map\n",
        "Check which area fall outside the"
      ],
      "metadata": {
        "id": "5ixJp7X4qVRB"
      }
    },
    {
      "cell_type": "code",
      "source": [
        "outside_polygons = multi_polys[multi_polys['ModelAreaName'].isna()]"
      ],
      "metadata": {
        "id": "BmPNOTQ6LTRb"
      },
      "execution_count": 21,
      "outputs": []
    },
    {
      "cell_type": "code",
      "source": [
        "import matplotlib.pyplot as plt\n",
        "\n",
        "# Plot the model_areas\n",
        "fig, ax = plt.subplots(figsize=(10, 10))\n",
        "model_areas.plot(ax=ax, color='lightblue', edgecolor='black', label='Model Areas')\n",
        "\n",
        "# Plot the outside polygons\n",
        "outside_polygons.plot(ax=ax, color='red', alpha=0.7, label='Outside Polygons')\n",
        "\n",
        "# Add legend and title\n",
        "plt.legend()\n",
        "plt.title('Polygons Outside Model Areas')\n",
        "plt.show()"
      ],
      "metadata": {
        "id": "n0r2vQ-uLe1L",
        "outputId": "28e93672-457c-4c2a-a728-a091851148e6",
        "colab": {
          "base_uri": "https://localhost:8080/",
          "height": 960
        }
      },
      "execution_count": null,
      "outputs": [
        {
          "output_type": "stream",
          "name": "stderr",
          "text": [
            "<ipython-input-71-827b568daff1>:11: UserWarning: Legend does not support handles for PatchCollection instances.\n",
            "See: https://matplotlib.org/stable/tutorials/intermediate/legend_guide.html#implementing-a-custom-legend-handler\n",
            "  plt.legend()\n",
            "<ipython-input-71-827b568daff1>:11: UserWarning: No artists with labels found to put in legend.  Note that artists whose label start with an underscore are ignored when legend() is called with no argument.\n",
            "  plt.legend()\n"
          ]
        },
        {
          "output_type": "display_data",
          "data": {
            "text/plain": [
              "<Figure size 1000x1000 with 1 Axes>"
            ],
            "image/png": "[encoded data removed]"
          },
          "metadata": {}
        }
      ]
    },
    {
      "cell_type": "code",
      "source": [
        "print(model_areas.is_valid.all())"
      ],
      "metadata": {
        "id": "ESIS2yv5LhrM",
        "outputId": "97f5fbf8-6093-45e8-e69b-2c9bee7128b8",
        "colab": {
          "base_uri": "https://localhost:8080/"
        }
      },
      "execution_count": null,
      "outputs": [
        {
          "output_type": "stream",
          "name": "stdout",
          "text": [
            "True\n"
          ]
        }
      ]
    },
    {
      "cell_type": "markdown",
      "source": [
        "# Convert MAPinfo file to jeoson\n"
      ],
      "metadata": {
        "id": "zqSmWtGgmqqQ"
      }
    },
    {
      "source": [
        "import geopandas as gpd\n",
        "\n",
        "# Read the .TAB file\n",
        "tab_file = \"BoundaryUpgradeLog.TAB\"\n",
        "gdf = gpd.read_file(tab_file)\n",
        "\n",
        "# Convert to GeoJSON\n",
        "geojson_file = \"output.geojson\"\n",
        "gdf.to_file(geojson_file, driver=\"GeoJSON\")\n",
        "\n",
        "print(f\"GeoJSON file saved to {geojson_file}\")\n"
      ],
      "cell_type": "code",
      "metadata": {
        "id": "BBDd5apzlN3o",
        "outputId": "0da2c775-f0af-4da0-b093-1da1f76f348e",
        "colab": {
          "base_uri": "https://localhost:8080/"
        }
      },
      "execution_count": null,
      "outputs": [
        {
          "output_type": "stream",
          "name": "stdout",
          "text": [
            "GeoJSON file saved to output.geojson\n"
          ]
        }
      ]
    },
    {
      "cell_type": "code",
      "source": [
        "import geopandas as gpd\n",
        "file_list = [\"BoundaryUpgradeLog.TAB\",\"UrbanAreas_AB.TAB\",\"SuppBoundsFINAL.TAB\",\"UrbanAreas_PROV2.TAB\"]\n",
        "for file in file_list:\n",
        "  gdf = gpd.read_file(file)\n",
        "  geojson_file = file.split(\".\")[0]+\".geojson\"\n",
        "  gdf.to_file(geojson_file, driver=\"GeoJSON\")\n",
        "  print(f\"GeoJSON file saved to {geojson_file}\")"
      ],
      "metadata": {
        "id": "i4wRnA4auh7R",
        "outputId": "7bcaaa93-1ddf-4ef5-c4b7-2eafb8f8a76b",
        "colab": {
          "base_uri": "https://localhost:8080/"
        }
      },
      "execution_count": 53,
      "outputs": [
        {
          "output_type": "stream",
          "name": "stdout",
          "text": [
            "GeoJSON file saved to BoundaryUpgradeLog.geojson\n",
            "GeoJSON file saved to UrbanAreas_AB.geojson\n",
            "GeoJSON file saved to SuppBoundsFINAL.geojson\n",
            "GeoJSON file saved to UrbanAreas_PROV2.geojson\n"
          ]
        }
      ]
    },
    {
      "cell_type": "markdown",
      "source": [
        "# Create a map with Layers in Folium"
      ],
      "metadata": {
        "id": "AZuLPKKJm0Li"
      }
    },
    {
      "cell_type": "code",
      "source": [
        "def boundary_style(feature):\n",
        "  return {\n",
        "  'fillColor': 'blue',\n",
        "  'color': 'blue',\n",
        "  'weight': 2,\n",
        "  'opacity': 1,\n",
        "  'fillOpacity': 0.6}\n",
        "\n",
        "def urban_areas_style(feature):\n",
        "  return {\n",
        "  'fillColor': 'green',\n",
        "  'color': 'green',\n",
        "  'weight': 2,\n",
        "  'opacity': 1,\n",
        "  'fillOpacity': 0.6\n",
        "  }\n",
        "\n",
        "def supp_style(feature):\n",
        "  return {\n",
        "  'fillColor': 'red',\n",
        "  'color': 'red',\n",
        "  'weight': 2,\n",
        "  'opacity': 1,\n",
        "  'fillOpacity': 0.6\n",
        "  }\n",
        "\n",
        "def urban_style(feature):\n",
        "  return {\n",
        "  'fillColor': 'yellow',\n",
        "  'color': 'yellow',\n",
        "  'weight': 2,\n",
        "  'opacity': 1,\n",
        "  'fillOpacity': 0.6\n",
        "  }"
      ],
      "metadata": {
        "id": "PsiKNPDKxKX5"
      },
      "execution_count": 54,
      "outputs": []
    },
    {
      "cell_type": "code",
      "source": [
        "import folium\n",
        "import json\n",
        "\n",
        "# Create a map centered around a specific location\n",
        "m = folium.Map(location=[45.4215, -75.6972], zoom_start=13)\n",
        "\n",
        "# Open the GeoJSON file and load the data using json.load()\n",
        "with open(\"BoundaryUpgradeLog.geojson\") as f:\n",
        "    BoundaryUpgradeLog = json.load(f)\n",
        "\n",
        "with open(\"UrbanAreas_AB.geojson\") as f:\n",
        "    UrbanAreas_AB = json.load(f)\n",
        "\n",
        "with open(\"SuppBoundsFINAL.geojson\") as f:\n",
        "    supp = json.load(f)\n",
        "\n",
        "with open(\"UrbanAreas_PROV2.geojson\") as f:\n",
        "    urban = json.load(f)\n",
        "\n",
        "# Add the GeoJSON layer (boundary layer)\n",
        "folium.GeoJson(BoundaryUpgradeLog, name='Boundary Layer',style_function=boundary_style).add_to(m)\n",
        "folium.GeoJson(UrbanAreas_AB, name='Urban Areas AB Layer',style_function=urban_areas_style).add_to(m)\n",
        "folium.GeoJson(supp, name='supp',style_function=supp_style).add_to(m)\n",
        "folium.GeoJson(urban, name='urban',style_function=urban_style).add_to(m)\n",
        "# Add layer control to toggle the boundary layer\n",
        "folium.LayerControl().add_to(m)\n",
        "\n",
        "\n",
        "\n",
        "\n",
        "\n",
        "# Save the map to an HTML file\n",
        "m.save('map_with_geojson.html')\n"
      ],
      "metadata": {
        "id": "LldCfpuLLkkx"
      },
      "execution_count": 55,
      "outputs": []
    },
    {
      "cell_type": "code",
      "source": [],
      "metadata": {
        "id": "lLxKsEYfk7Sf"
      },
      "execution_count": null,
      "outputs": []
    }
  ]
}